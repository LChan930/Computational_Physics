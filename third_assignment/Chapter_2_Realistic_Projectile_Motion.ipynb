{
 "cells": [
  {
   "cell_type": "markdown",
   "metadata": {
    "slideshow": {
     "slide_type": "slide"
    }
   },
   "source": [
    "# Chapter 2 Realistic Projectile Motion         \n",
    "\n",
    "*蔡浩*    \n",
    "*hcai@whu.edu.cn*"
   ]
  },
  {
   "cell_type": "markdown",
   "metadata": {
    "slideshow": {
     "slide_type": "slide"
    }
   },
   "source": [
    "# 2.1 Bicycle racing: the effect of air resistance"
   ]
  },
  {
   "cell_type": "markdown",
   "metadata": {
    "slideshow": {
     "slide_type": "slide"
    }
   },
   "source": [
    "## ODE (ordinary differential equation)"
   ]
  },
  {
   "cell_type": "markdown",
   "metadata": {
    "slideshow": {
     "slide_type": "slide"
    }
   },
   "source": [
    "- motion of bicycle, projectile motion, the thajectory of shell, ... ..."
   ]
  },
  {
   "cell_type": "markdown",
   "metadata": {
    "slideshow": {
     "slide_type": "slide"
    }
   },
   "source": [
    "- Euler method"
   ]
  },
  {
   "cell_type": "markdown",
   "metadata": {
    "slideshow": {
     "slide_type": "slide"
    }
   },
   "source": [
    "<img src=\"http://caihaopics.oss-cn-hangzhou.aliyuncs.com/18-9-28/57468626.jpg\" width=60%/>"
   ]
  },
  {
   "cell_type": "markdown",
   "metadata": {
    "slideshow": {
     "slide_type": "slide"
    }
   },
   "source": [
    "## Newton's second law"
   ]
  },
  {
   "cell_type": "markdown",
   "metadata": {
    "slideshow": {
     "slide_type": "slide"
    }
   },
   "source": [
    "- Newton's second law\n",
    "  $$\\frac{dv}{dm}=\\frac{F}{m}$$"
   ]
  },
  {
   "cell_type": "markdown",
   "metadata": {
    "slideshow": {
     "slide_type": "slide"
    }
   },
   "source": [
    "- the mechanics of a bicycle?    "
   ]
  },
  {
   "cell_type": "markdown",
   "metadata": {
    "slideshow": {
     "slide_type": "slide"
    }
   },
   "source": [
    "<img src=\"http://caihaopics.oss-cn-hangzhou.aliyuncs.com/18-9-28/20194452.jpg\" alt=\"https://upload.wikimedia.org/wikipedia/commons/thumb/8/8a/Bicycle_diagram-en.svg/850px-Bicycle_diagram-en.svg.png![image.png](attachment:image.png)\" width=60%/>"
   ]
  },
  {
   "cell_type": "markdown",
   "metadata": {
    "slideshow": {
     "slide_type": "slide"
    }
   },
   "source": [
    "<img alt=\"http://physicalcycling.com/wp-content/uploads/2018/01/DrriveTrain01.jpg\" src=\"http://caihaopics.oss-cn-hangzhou.aliyuncs.com/18-9-28/85322880.jpg\" width=60%/>"
   ]
  },
  {
   "cell_type": "markdown",
   "metadata": {
    "slideshow": {
     "slide_type": "slide"
    }
   },
   "source": [
    "- *It's hard to derive an accurate expression for $F$.*"
   ]
  },
  {
   "cell_type": "markdown",
   "metadata": {
    "slideshow": {
     "slide_type": "slide"
    }
   },
   "source": [
    "## Energy and Power"
   ]
  },
  {
   "cell_type": "markdown",
   "metadata": {
    "slideshow": {
     "slide_type": "slide"
    }
   },
   "source": [
    "- Another form of Newton's second law\n",
    "  $$\\frac{dE}{dt}=P$$\n",
    "  where $E$ is the total energy of the bicycle-rider combination, and $P$ is the power output of the rider."
   ]
  },
  {
   "cell_type": "markdown",
   "metadata": {
    "slideshow": {
     "slide_type": "slide"
    }
   },
   "source": [
    "- $E$ is about 400 watts for a typical bicycle-racing athlete"
   ]
  },
  {
   "cell_type": "markdown",
   "metadata": {
    "slideshow": {
     "slide_type": "slide"
    }
   },
   "source": [
    "- $v/P$ relation\n",
    "  $$E=\\frac{1}{2}mv^2,~~~\\frac{dE}{dt}=mv\\frac{dv}{dt}$$\n",
    "  $$\\frac{dv}{dt}=\\frac{P}{mv}$$"
   ]
  },
  {
   "cell_type": "markdown",
   "metadata": {
    "slideshow": {
     "slide_type": "slide"
    }
   },
   "source": [
    "- analytical solution\n",
    "  $$\\int_{v_0}^v v'dv'=\\int_0^t\\frac{P}{m}dt'$$\n",
    "  $$v=\\sqrt{v_0^2+2Pt/m}$$"
   ]
  },
  {
   "cell_type": "markdown",
   "metadata": {
    "slideshow": {
     "slide_type": "slide"
    }
   },
   "source": [
    "## \"unphysical\" solution"
   ]
  },
  {
   "cell_type": "code",
   "execution_count": 17,
   "metadata": {
    "slideshow": {
     "slide_type": "slide"
    }
   },
   "outputs": [
    {
     "data": {
      "image/png": "[encoded data removed]",
      "text/plain": [
       "<Figure size 432x288 with 1 Axes>"
      ]
     },
     "metadata": {
      "needs_background": "light"
     },
     "output_type": "display_data"
    }
   ],
   "source": [
    "import numpy as np\n",
    "import matplotlib.pyplot as plt\n",
    "# evenly sampled time at 200ms intervals\n",
    "t = np.arange(0., 5., 0.2)\n",
    "# red dashes, blue squares and green triangles\n",
    "v0 = 1.0; P = 1.0; m = 1.0;\n",
    "plt.plot(t, np.sqrt(1+2*P*t/m), 'r--') \n",
    "plt.show()"
   ]
  },
  {
   "cell_type": "markdown",
   "metadata": {
    "slideshow": {
     "slide_type": "slide"
    }
   },
   "source": [
    "## Euler method"
   ]
  },
  {
   "cell_type": "markdown",
   "metadata": {
    "slideshow": {
     "slide_type": "slide"
    }
   },
   "source": [
    "- finite difference form\n",
    "  $$\\frac{dv}{dt}\\approx\\frac{v_{i+1}-v_i}{\\Delta t}$$\n",
    "  where $\\Delta t$ is the small, discrete step size, and $v_i$ is the velocity at time $t_i\\equiv i\\Delta t$."
   ]
  },
  {
   "cell_type": "markdown",
   "metadata": {
    "slideshow": {
     "slide_type": "slide"
    }
   },
   "source": [
    "- Euler method\n",
    "  $$v_{i+1}=v_i+\\frac{P}{mv_i}\\Delta t$$"
   ]
  },
  {
   "cell_type": "markdown",
   "metadata": {
    "slideshow": {
     "slide_type": "slide"
    }
   },
   "source": [
    "- *approximation* $\\to$ the leading correcting terms are propotional to $(\\Delta t)^2$"
   ]
  },
  {
   "cell_type": "markdown",
   "metadata": {
    "slideshow": {
     "slide_type": "slide"
    }
   },
   "source": [
    "## How to choose numerical method?"
   ]
  },
  {
   "cell_type": "markdown",
   "metadata": {
    "slideshow": {
     "slide_type": "slide"
    }
   },
   "source": [
    "There are many other methods for ODE described in Appendix A. "
   ]
  },
  {
   "cell_type": "markdown",
   "metadata": {
    "slideshow": {
     "slide_type": "slide"
    }
   },
   "source": [
    "- methods that are more powerful than the Euler method do indeed exists;"
   ]
  },
  {
   "cell_type": "markdown",
   "metadata": {
    "slideshow": {
     "slide_type": "slide"
    }
   },
   "source": [
    "- these more powerful methods can cerntainly be used to solve all of the problems in this book where we use the Euler method;"
   ]
  },
  {
   "cell_type": "markdown",
   "metadata": {
    "slideshow": {
     "slide_type": "slide"
    }
   },
   "source": [
    "- if you are going to do this sort of thing for a living it is might consider a quick-and-dirty approach, we are *not trying* to minimize the importance of other algorithms."
   ]
  },
  {
   "cell_type": "markdown",
   "metadata": {
    "slideshow": {
     "slide_type": "slide"
    }
   },
   "source": [
    "## Example 2.1 Pseudocode for bicycle calculation"
   ]
  },
  {
   "cell_type": "markdown",
   "metadata": {
    "slideshow": {
     "slide_type": "slide"
    }
   },
   "source": [
    "- `main program`\n",
    "\n",
    "  - Declare necessary variables, including arrays $t()$ and $v()$ to store time and velocity.\n",
    "\n",
    "  - Set values for the power $P$, mass $m$, and time step $\\Delta t$, and total number of time steps $N$, along with the initial value for the velocity $(v_0)$.\n",
    "\n",
    "  - Do the actual calculation.\n",
    "\n",
    "  - Store the results (Show!!!)"
   ]
  },
  {
   "cell_type": "markdown",
   "metadata": {
    "slideshow": {
     "slide_type": "slide"
    }
   },
   "source": [
    "- `calculate` subroutine\n",
    "\n",
    "  - For each time step $i$ calculate $v$ and $t$ at step $i+1$:\n",
    "    $$v_{i+1}=v_i+\\left(\\frac{P}{mv_i}\\right)\\Delta t$$\n",
    "    $$t_{i+1}=t_i+\\Delta t$$\n",
    "\n",
    "  - Repeat for $N$ time steps."
   ]
  },
  {
   "cell_type": "code",
   "execution_count": 7,
   "metadata": {
    "slideshow": {
     "slide_type": "slide"
    }
   },
   "outputs": [],
   "source": [
    "class bicycle:\n",
    "    def __init__(self, power, mass,\\\n",
    "                 time_step, total_time, initial_velocity):\n",
    "        pass\n",
    "    def run(self):\n",
    "        pass\n",
    "    def show_results(self):\n",
    "        pass"
   ]
  },
  {
   "cell_type": "code",
   "execution_count": 8,
   "metadata": {
    "slideshow": {
     "slide_type": "slide"
    }
   },
   "outputs": [],
   "source": [
    "    def __init__(self, power=10, mass=1, time_step=0.1,\\\n",
    "                 total_time=20, initial_velocity=1):\n",
    "        self.v = [initial_velocity]\n",
    "        self.t = [0]\n",
    "        self.m = mass\n",
    "        self.p = power\n",
    "        self.dt = time_step\n",
    "        self.time = total_time"
   ]
  },
  {
   "cell_type": "code",
   "execution_count": 9,
   "metadata": {
    "slideshow": {
     "slide_type": "slide"
    }
   },
   "outputs": [],
   "source": [
    "    def run(self):\n",
    "        _time = 0\n",
    "        while(_timer < self.time):\n",
    "            self.v.append(self.v[-1] +\\\n",
    "                          self.dt * self.p / (self.m * self.v[-1]))\n",
    "            self.t.append(_time)\n",
    "            _time += self.dt"
   ]
  },
  {
   "cell_type": "code",
   "execution_count": 10,
   "metadata": {
    "slideshow": {
     "slide_type": "slide"
    }
   },
   "outputs": [],
   "source": [
    "    def show_results(self):\n",
    "        pl.plot(self.t, self.v)\n",
    "        pl.xlabel('time ($s$)')\n",
    "        pl.ylabel('velocity')\n",
    "        pl.show()"
   ]
  },
  {
   "cell_type": "code",
   "execution_count": 11,
   "metadata": {
    "slideshow": {
     "slide_type": "slide"
    }
   },
   "outputs": [],
   "source": [
    "import pylab as pl\n",
    "class bicycle:\n",
    "    def __init__(self, power=10, mass=1, time_step=0.1,\\\n",
    "                 total_time=20, initial_velocity=1):\n",
    "        self.v = [initial_velocity]\n",
    "        self.t = [0]\n",
    "        self.m = mass\n",
    "        self.p = power\n",
    "        self.dt = time_step\n",
    "        self.time = total_time   \n",
    "    def run(self):\n",
    "        _time = 0\n",
    "        while(_time < self.time):\n",
    "            self.v.append(self.v[-1] +\\\n",
    "                          self.dt * self.p / (self.m * self.v[-1]))\n",
    "            self.t.append(_time)\n",
    "            _time += self.dt    \n",
    "    def show_results(self):\n",
    "        font = {'family': 'serif',\n",
    "                'color':  'darkred',\n",
    "                'weight': 'normal',\n",
    "                'size': 16,\n",
    "        }\n",
    "        pl.plot(self.t, self.v)\n",
    "        pl.title('Bicycling without air resistance', fontdict = font)\n",
    "        pl.xlabel('time ($s$)')\n",
    "        pl.ylabel('velocity')\n",
    "        pl.text(0.2 * self.time, 0.9 * self.v[-1],\\\n",
    "                'velocity with time', fontdict = font)\n",
    "        pl.show()"
   ]
  },
  {
   "cell_type": "code",
   "execution_count": 12,
   "metadata": {
    "slideshow": {
     "slide_type": "slide"
    }
   },
   "outputs": [
    {
     "data": {
      "image/png": "[encoded data removed]",
      "text/plain": [
       "<Figure size 432x288 with 1 Axes>"
      ]
     },
     "metadata": {
      "needs_background": "light"
     },
     "output_type": "display_data"
    }
   ],
   "source": [
    "a = bicycle()\n",
    "a.run()\n",
    "a.show_results()"
   ]
  },
  {
   "cell_type": "markdown",
   "metadata": {
    "slideshow": {
     "slide_type": "slide"
    }
   },
   "source": [
    "## How to choose $\\Delta t$?"
   ]
  },
  {
   "cell_type": "markdown",
   "metadata": {
    "slideshow": {
     "slide_type": "slide"
    }
   },
   "source": [
    "- **A useful rule**  \n",
    "  *one percent of any time scales in the problem, and then repeat the calculation with several smaller values*"
   ]
  },
  {
   "cell_type": "markdown",
   "metadata": {
    "slideshow": {
     "slide_type": "slide"
    }
   },
   "source": [
    "- **trade-off**  \n",
    "  *more accurate results, but a computational time proportional to $(\\Delta t)^{-1}$*"
   ]
  },
  {
   "cell_type": "markdown",
   "metadata": {
    "slideshow": {
     "slide_type": "slide"
    }
   },
   "source": [
    "## \"frictionless\" solution"
   ]
  },
  {
   "cell_type": "markdown",
   "metadata": {
    "slideshow": {
     "slide_type": "slide"
    }
   },
   "source": [
    "<img alt=\"https://media.wired.com/photos/5b51f6e32220317b52eed91c/master/w_882,c_limit/bikeforces.png\" src=\"http://caihaopics.oss-cn-hangzhou.aliyuncs.com/18-9-28/51756368.jpg\" width=60%/>"
   ]
  },
  {
   "cell_type": "markdown",
   "metadata": {
    "slideshow": {
     "slide_type": "slide"
    }
   },
   "source": [
    "## air resistance"
   ]
  },
  {
   "cell_type": "markdown",
   "metadata": {
    "slideshow": {
     "slide_type": "slide"
    }
   },
   "source": [
    "- General form of air resistance (Taylor expansion)\n",
    "  $$F_{drag}\\approx-B_1v-B_2v^2$$"
   ]
  },
  {
   "cell_type": "markdown",
   "metadata": {
    "slideshow": {
     "slide_type": "slide"
    }
   },
   "source": [
    "- $-B_1v$ comes from **Stokes's law**  "
   ]
  },
  {
   "cell_type": "markdown",
   "metadata": {
    "slideshow": {
     "slide_type": "slide"
    }
   },
   "source": [
    "<img alt=\"https://en.wikipedia.org/wiki/File:Stokes_sphere.svg\" src=\"http://caihaopics.oss-cn-hangzhou.aliyuncs.com/18-9-28/23309432.jpg\" width=32%/>"
   ]
  },
  {
   "cell_type": "markdown",
   "metadata": {
    "slideshow": {
     "slide_type": "slide"
    }
   },
   "source": [
    "The force of viscosity on a small sphere moving through a viscous fluid is given by:[2]\n",
    "\n",
    "$${\\displaystyle F_{d}=6\\pi \\,\\eta \\,R\\,v\\,} {\\displaystyle F_{d}=6\\pi \\,\\eta \\,R\\,v\\,}$$\n",
    "where:\n",
    "\n",
    "$F_d$ is the frictional force – known as Stokes' drag – acting on the interface between the fluid and the particle\n",
    "\n",
    "$\\eta$ is the dynamic viscosity (some authors use the symbol $\\mu$)\n",
    "\n",
    "$R$ is the radius of the spherical object\n",
    "\n",
    "$v$ is the flow velocity relative to the object."
   ]
  },
  {
   "cell_type": "markdown",
   "metadata": {
    "slideshow": {
     "slide_type": "slide"
    }
   },
   "source": [
    "- $-B_2v^2$ dominates for most objects"
   ]
  },
  {
   "cell_type": "markdown",
   "metadata": {
    "slideshow": {
     "slide_type": "slide"
    }
   },
   "source": [
    "### *approximate* estimate of $B_2$"
   ]
  },
  {
   "cell_type": "markdown",
   "metadata": {
    "slideshow": {
     "slide_type": "slide"
    }
   },
   "source": [
    "- mass of air moved in time $dt$ is $m_{air}\\sim\\rho Avdt$"
   ]
  },
  {
   "cell_type": "markdown",
   "metadata": {
    "slideshow": {
     "slide_type": "slide"
    }
   },
   "source": [
    "- velocity of this air is of order $v$, hence its energy is $E_{air}\\sim m_{air}v^2/2$"
   ]
  },
  {
   "cell_type": "markdown",
   "metadata": {
    "slideshow": {
     "slide_type": "slide"
    }
   },
   "source": [
    "- the work done by the drag force in time $dt$ is $F_{drag}vdt=E_{air}$\n",
    "  $$F_{drag}\\approx-\\frac{1}{2}C\\rho Av^2$$"
   ]
  },
  {
   "cell_type": "markdown",
   "metadata": {
    "slideshow": {
     "slide_type": "slide"
    }
   },
   "source": [
    "- $C$ is known as the drag coefficient ($C=1$?)"
   ]
  },
  {
   "cell_type": "markdown",
   "metadata": {
    "slideshow": {
     "slide_type": "slide"
    }
   },
   "source": [
    "### aerodynamics  "
   ]
  },
  {
   "cell_type": "markdown",
   "metadata": {
    "slideshow": {
     "slide_type": "slide"
    }
   },
   "source": [
    "<img src=\"http://caihaopics.oss-cn-hangzhou.aliyuncs.com/18-9-28/44871416.jpg\" width=60%/>"
   ]
  },
  {
   "cell_type": "markdown",
   "metadata": {
    "slideshow": {
     "slide_type": "slide"
    }
   },
   "source": [
    "## including resistance"
   ]
  },
  {
   "cell_type": "markdown",
   "metadata": {
    "slideshow": {
     "slide_type": "slide"
    }
   },
   "source": [
    "- New equation with Euler method\n",
    "  $$v_{i+1}=v_i+\\frac{P}{mv_i}\\Delta t-\\frac{C\\rho Av_i^2}{2m}\\Delta t$$"
   ]
  },
  {
   "cell_type": "markdown",
   "metadata": {
    "slideshow": {
     "slide_type": "slide"
    }
   },
   "source": [
    "  <img src=\"http://caihaopics.oss-cn-hangzhou.aliyuncs.com/18-9-28/2274407.jpg\" width=60%/>"
   ]
  },
  {
   "cell_type": "markdown",
   "metadata": {
    "slideshow": {
     "slide_type": "slide"
    }
   },
   "source": [
    "## racing strategy"
   ]
  },
  {
   "cell_type": "markdown",
   "metadata": {
    "slideshow": {
     "slide_type": "slide"
    }
   },
   "source": [
    "<img src=\"http://www.bicycle.net/wp-content/uploads/2013/10/RR_72dpi_400pw_str.jpg\" width=\"40%\"/>"
   ]
  },
  {
   "cell_type": "markdown",
   "metadata": {
    "slideshow": {
     "slide_type": "slide"
    }
   },
   "source": [
    "# 2.2 Projectile motion: the trajectory of a cannon shell"
   ]
  },
  {
   "cell_type": "markdown",
   "metadata": {
    "slideshow": {
     "slide_type": "slide"
    }
   },
   "source": [
    "## Projectile motion"
   ]
  },
  {
   "cell_type": "markdown",
   "metadata": {},
   "source": [
    "- Newton's second law in two spatial dimensions\n",
    "  $$\\frac{d^2x}{dt^2}=0$$\n",
    "  $$\\frac{d^2y}{dt^2}=-g$$"
   ]
  },
  {
   "cell_type": "markdown",
   "metadata": {
    "slideshow": {
     "slide_type": "slide"
    }
   },
   "source": [
    "<img src=\"http://caihaopics.oss-cn-hangzhou.aliyuncs.com/18-9-29/39062234.jpg\" width=\"600\"/>"
   ]
  },
  {
   "cell_type": "markdown",
   "metadata": {
    "slideshow": {
     "slide_type": "slide"
    }
   },
   "source": [
    "## Euler method for second-order ODE"
   ]
  },
  {
   "cell_type": "markdown",
   "metadata": {
    "slideshow": {
     "slide_type": "slide"
    }
   },
   "source": [
    "- write each of these second-order equations as two firest-order differential equations\n",
    "  $$\\frac{dx}{dt}=v_x,~~~\\frac{dv_x}{dt}=0$$\n",
    "  $$\\frac{dy}{dt}=v_y,~~~\\frac{dv_y}{dt}=-g$$"
   ]
  },
  {
   "cell_type": "markdown",
   "metadata": {
    "slideshow": {
     "slide_type": "slide"
    }
   },
   "source": [
    "- finite difference form\n",
    "  $$x_{i+1}=x_i+v_{x,i}\\Delta t,~~~v_{x,i+1}=v_{x,i}$$\n",
    "  $$y_{i+1}=y_i+v_{y,i}\\Delta t,~~~v_{y,i+1}=v_{y,i}-g\\Delta t$$"
   ]
  },
  {
   "cell_type": "markdown",
   "metadata": {
    "slideshow": {
     "slide_type": "slide"
    }
   },
   "source": [
    "## Resistance"
   ]
  },
  {
   "cell_type": "markdown",
   "metadata": {
    "slideshow": {
     "slide_type": "slide"
    }
   },
   "source": [
    "- the magnitude of the drag force is given by\n",
    "  $$F_{drag}=-B_2v^2$$\n",
    "  where $v=\\sqrt{v_x^2+v_y^2}$"
   ]
  },
  {
   "cell_type": "markdown",
   "metadata": {
    "slideshow": {
     "slide_type": "slide"
    }
   },
   "source": [
    "- the componets of the drag force\n",
    "  $$F_{drag,x}=F_{drag}\\cos\\theta=F_{drag}(v_x/v)=-B_2vv_x$$\n",
    "  $$F_{drag,y}=F_{drag}\\sin\\theta=F_{drag}(v_y/v)=-B_2vv_y$$"
   ]
  },
  {
   "cell_type": "markdown",
   "metadata": {
    "slideshow": {
     "slide_type": "slide"
    }
   },
   "source": [
    "<img src=\"http://caihaopics.oss-cn-hangzhou.aliyuncs.com/18-9-29/70860404.jpg\" width=\"60%\"/>"
   ]
  },
  {
   "cell_type": "markdown",
   "metadata": {
    "slideshow": {
     "slide_type": "slide"
    }
   },
   "source": [
    "- Euler method with resistance\n",
    "  $$x_{i+1}=x_i+v_{x,i}\\Delta t$$\n",
    "  $$v_{x,i+1}=v_{x,i}-\\frac{B_2vv_{x,i}}{m}\\Delta t$$\n",
    "  $$y_{i+1}=y_i+v_{y,i}\\Delta t$$\n",
    "  $$v_{y,i+1}=v_{y,i}-g\\Delta t-\\frac{B_2vy_{y,i}}{m}\\Delta t$$"
   ]
  },
  {
   "cell_type": "markdown",
   "metadata": {
    "slideshow": {
     "slide_type": "slide"
    }
   },
   "source": [
    "## True Basic Program"
   ]
  },
  {
   "cell_type": "markdown",
   "metadata": {
    "slideshow": {
     "slide_type": "slide"
    }
   },
   "source": [
    "<img src=\"http://caihaopics.oss-cn-hangzhou.aliyuncs.com/18-9-29/85839746.jpg\" width=90%/>"
   ]
  },
  {
   "cell_type": "markdown",
   "metadata": {
    "slideshow": {
     "slide_type": "slide"
    }
   },
   "source": [
    "## OOP (object-oriented programming)"
   ]
  },
  {
   "cell_type": "markdown",
   "metadata": {
    "slideshow": {
     "slide_type": "slide"
    }
   },
   "source": [
    "## How to decide the point of fall?"
   ]
  },
  {
   "cell_type": "markdown",
   "metadata": {
    "slideshow": {
     "slide_type": "slide"
    }
   },
   "source": [
    "- the last point above the ground $(n)$ and the first point below the ground $(n+1)$ give\n",
    "  $$x=\\frac{x_n+rx_{n+1}}{r+1},~~~y_l=0$$\n",
    "  $$r=-y_n/y_{n+1}$$"
   ]
  },
  {
   "cell_type": "markdown",
   "metadata": {
    "slideshow": {
     "slide_type": "slide"
    }
   },
   "source": [
    "## Trajectory of cannon shell"
   ]
  },
  {
   "cell_type": "markdown",
   "metadata": {
    "slideshow": {
     "slide_type": "slide"
    }
   },
   "source": [
    "<img src=\"http://caihaopics.oss-cn-hangzhou.aliyuncs.com/18-9-29/68653494.jpg\" width=700/>"
   ]
  },
  {
   "cell_type": "markdown",
   "metadata": {
    "slideshow": {
     "slide_type": "slide"
    }
   },
   "source": [
    "## Effects of altitude"
   ]
  },
  {
   "cell_type": "markdown",
   "metadata": {
    "slideshow": {
     "slide_type": "slide"
    }
   },
   "source": [
    "- *isothermal* (constant temperature) ideal gas\n",
    "  $$p(y)=p(0)e^{-mgy/k_BT}$$\n",
    "  $$\\rho(y)=\\rho(0)\\exp(-y/y_0)$$\n",
    "  where $y_0=k_BT/mg\\approx1.0\\times10^4m~$, $\\rho_0$ is density at sea level ($y=0$)."
   ]
  },
  {
   "cell_type": "markdown",
   "metadata": {
    "slideshow": {
     "slide_type": "slide"
    }
   },
   "source": [
    "- *adiabatic* approximation\n",
    "  $$\\rho=\\rho_0\\left(1-\\frac{a y}{T_0}\\right)^\\alpha$$\n",
    "  where $a\\approx6.5\\times10^{-3}K/m~$, $\\alpha\\approx2.5$ and $T_0$ is the sea level temperature (in $K$)."
   ]
  },
  {
   "cell_type": "markdown",
   "metadata": {
    "slideshow": {
     "slide_type": "slide"
    }
   },
   "source": [
    "- the drag force due to air resistance is proportional to the density\n",
    "  $$F_{drag}^*=\\frac{\\rho}{\\rho_0}F_{drag}~~(y=0)$$"
   ]
  },
  {
   "cell_type": "markdown",
   "metadata": {
    "slideshow": {
     "slide_type": "slide"
    }
   },
   "source": [
    "- OOP?"
   ]
  },
  {
   "cell_type": "markdown",
   "metadata": {
    "slideshow": {
     "slide_type": "slide"
    }
   },
   "source": [
    "# 2.3 Baseball: motion of a batted ball"
   ]
  },
  {
   "cell_type": "markdown",
   "metadata": {
    "slideshow": {
     "slide_type": "slide"
    }
   },
   "source": [
    "## Physics of baseball"
   ]
  },
  {
   "cell_type": "markdown",
   "metadata": {
    "slideshow": {
     "slide_type": "slide"
    }
   },
   "source": [
    "<img src=\"http://d.gr-assets.com/books/1175359350l/507941.jpg\" width=\"20%\" style=\"float:left\"/><img src=\"http://assets.sbnation.com/assets/322082/cover-image1.jpg\" width=\"20%\" style=\"float:left\"/><img src=\"https://s-media-cache-ak0.pinimg.com/736x/c8/06/11/c80611544d9c82345b7f19e914819917.jpg\" width=\"20%\" style=\"float:left\"/>"
   ]
  },
  {
   "cell_type": "markdown",
   "metadata": {
    "slideshow": {
     "slide_type": "slide"
    }
   },
   "source": [
    "<img src=\"https://images-na.ssl-images-amazon.com/images/I/51DDvvHdYkL._AC_UL160_SR106,160_.jpg\" width=\"20%\" style=\"float:left\"/><img src=\"http://ecx.images-amazon.com/images/I/41TBoYIZ5WL._SY344_BO1,204,203,200_.jpg\" width=\"20%\" style=\"float:left\"/><img src=\"http://ecx.images-amazon.com/images/I/41CzDne3swL._SX334_BO1,204,203,200_.jpg\" width=\"20%\" style=\"float:left\"/>"
   ]
  },
  {
   "cell_type": "markdown",
   "metadata": {
    "slideshow": {
     "slide_type": "slide"
    }
   },
   "source": [
    "## Motion of a baseball"
   ]
  },
  {
   "cell_type": "markdown",
   "metadata": {
    "slideshow": {
     "slide_type": "slide"
    }
   },
   "source": [
    "- similar to that of cannon shell"
   ]
  },
  {
   "cell_type": "markdown",
   "metadata": {
    "slideshow": {
     "slide_type": "slide"
    }
   },
   "source": [
    "- $v_0\\approx110 mph~(49 m/s)$ and $\\theta_0\\approx45^{\\circ}$ for a good power hitter results in $815ft~(248m)$ run in vacuum"
   ]
  },
  {
   "cell_type": "markdown",
   "metadata": {
    "slideshow": {
     "slide_type": "slide"
    }
   },
   "source": [
    "- a typical outfield fence is $350\\sim400m$ from the plate, and $500-ft$ *home run* is an exceptionally long one  "
   ]
  },
  {
   "cell_type": "markdown",
   "metadata": {
    "slideshow": {
     "slide_type": "slide"
    }
   },
   "source": [
    "  <img src=\"http://caihaopics.oss-cn-hangzhou.aliyuncs.com/18-9-29/15144216.jpg\" width=60%/>"
   ]
  },
  {
   "cell_type": "markdown",
   "metadata": {
    "slideshow": {
     "slide_type": "slide"
    }
   },
   "source": [
    "## Drag coefficient"
   ]
  },
  {
   "cell_type": "markdown",
   "metadata": {
    "slideshow": {
     "slide_type": "slide"
    }
   },
   "source": [
    "- Turbulent "
   ]
  },
  {
   "cell_type": "markdown",
   "metadata": {
    "slideshow": {
     "slide_type": "slide"
    }
   },
   "source": [
    " <img src=\"http://caihaopics.oss-cn-hangzhou.aliyuncs.com/18-9-29/67863002.jpg\" width=500/>"
   ]
  },
  {
   "cell_type": "markdown",
   "metadata": {},
   "source": [
    "This picture shows the difference between turbulent and laminar flow from a faucet. The left side of the picture shows the turbulent flow, and the right side shows the laminar flow. I chose this picture because I think that this is a nice visual representation of one of the most important fluid concepts. I also liked the quality of this picture, which shows to some extent the details of the flow."
   ]
  },
  {
   "cell_type": "markdown",
   "metadata": {
    "slideshow": {
     "slide_type": "slide"
    }
   },
   "source": [
    "- $F_{drag}\\propto Cv^2$  "
   ]
  },
  {
   "cell_type": "markdown",
   "metadata": {
    "slideshow": {
     "slide_type": "-"
    }
   },
   "source": [
    "  <img src=\"http://caihaopics.oss-cn-hangzhou.aliyuncs.com/18-9-29/2587172.jpg\" style=\"height:500\"/>"
   ]
  },
  {
   "cell_type": "markdown",
   "metadata": {
    "slideshow": {
     "slide_type": "slide"
    }
   },
   "source": [
    "## Pitched ball"
   ]
  },
  {
   "cell_type": "markdown",
   "metadata": {
    "slideshow": {
     "slide_type": "slide"
    }
   },
   "source": [
    "<img src=\"http://caihaopics.oss-cn-hangzhou.aliyuncs.com/18-9-29/14249704.jpg\" width=\"60%\"/>"
   ]
  },
  {
   "cell_type": "markdown",
   "metadata": {
    "slideshow": {
     "slide_type": "slide"
    }
   },
   "source": [
    "- 《One Outs》超智游戏  "
   ]
  },
  {
   "cell_type": "markdown",
   "metadata": {
    "slideshow": {
     "slide_type": "slide"
    }
   },
   "source": [
    "  <img src=\"http://caihaopics.oss-cn-hangzhou.aliyuncs.com/18-9-29/68663823.jpg\" width=500/>"
   ]
  },
  {
   "cell_type": "markdown",
   "metadata": {
    "slideshow": {
     "slide_type": "slide"
    }
   },
   "source": [
    "## Drag factor for a normal baseball in analytical form"
   ]
  },
  {
   "cell_type": "markdown",
   "metadata": {
    "slideshow": {
     "slide_type": "slide"
    }
   },
   "source": [
    "- the drag factor for a normal baseball\n",
    "  $$\\frac{B_2}{m}=0.0039+\\frac{0.0058}{1+\\exp[(v-v_d)/\\Delta]}$$\n",
    "  with $v_d=35m/s~$ and $\\Delta=5m/s$.  "
   ]
  },
  {
   "cell_type": "markdown",
   "metadata": {
    "slideshow": {
     "slide_type": "slide"
    }
   },
   "source": [
    "<img src=\"http://caihaopics.oss-cn-hangzhou.aliyuncs.com/18-9-29/63834881.jpg\" width=500/>"
   ]
  },
  {
   "cell_type": "markdown",
   "metadata": {
    "slideshow": {
     "slide_type": "slide"
    }
   },
   "source": [
    "## Trajectory of a baseball"
   ]
  },
  {
   "cell_type": "markdown",
   "metadata": {
    "slideshow": {
     "slide_type": "slide"
    }
   },
   "source": [
    "- air resistance has an *enormous* effect  "
   ]
  },
  {
   "cell_type": "markdown",
   "metadata": {
    "slideshow": {
     "slide_type": "slide"
    }
   },
   "source": [
    "  <img src=\"http://caihaopics.oss-cn-hangzhou.aliyuncs.com/18-9-29/36842254.jpg\" width=600/>"
   ]
  },
  {
   "cell_type": "markdown",
   "metadata": {
    "slideshow": {
     "slide_type": "slide"
    }
   },
   "source": [
    "## Effect of wind"
   ]
  },
  {
   "cell_type": "markdown",
   "metadata": {
    "slideshow": {
     "slide_type": "slide"
    }
   },
   "source": [
    "- the components of the drag force\n",
    "  $$F_{drag,x}=-B_2|\\vec v-\\vec v_{wind}|(v_x-v_{wind})$$\n",
    "  $$F_{drag,y}=-B_2|\\vec v-\\vec v_{wind}|v_y$$\n",
    "  where $v_{wind}~$ is the velocity of the wind, and a positive value corresponds to a tailwind."
   ]
  },
  {
   "cell_type": "markdown",
   "metadata": {
    "slideshow": {
     "slide_type": "slide"
    }
   },
   "source": [
    "- effect of wind "
   ]
  },
  {
   "cell_type": "markdown",
   "metadata": {
    "slideshow": {
     "slide_type": "slide"
    }
   },
   "source": [
    " \n",
    "  <img src=\"http://caihaopics.oss-cn-hangzhou.aliyuncs.com/18-9-29/12164611.jpg\" width=600/>"
   ]
  },
  {
   "cell_type": "markdown",
   "metadata": {
    "slideshow": {
     "slide_type": "slide"
    }
   },
   "source": [
    "- *offense is favored over defense!!!*"
   ]
  },
  {
   "cell_type": "markdown",
   "metadata": {
    "slideshow": {
     "slide_type": "slide"
    }
   },
   "source": [
    "## Effect of altitude"
   ]
  },
  {
   "cell_type": "markdown",
   "metadata": {
    "slideshow": {
     "slide_type": "slide"
    }
   },
   "source": [
    "- effect of altitude"
   ]
  },
  {
   "cell_type": "markdown",
   "metadata": {
    "slideshow": {
     "slide_type": "slide"
    }
   },
   "source": [
    "  <img src=\"http://caihaopics.oss-cn-hangzhou.aliyuncs.com/18-9-29/8720493.jpg\" width=600/>"
   ]
  },
  {
   "cell_type": "markdown",
   "metadata": {
    "slideshow": {
     "slide_type": "slide"
    }
   },
   "source": [
    "- *insight* coming from *approximation*"
   ]
  },
  {
   "cell_type": "markdown",
   "metadata": {},
   "source": [
    "<img src=\"http://caihaopics.oss-cn-hangzhou.aliyuncs.com/18-9-30/44241894.jpg\" width=600/>"
   ]
  },
  {
   "cell_type": "markdown",
   "metadata": {
    "slideshow": {
     "slide_type": "slide"
    }
   },
   "source": [
    "# 2.4 Throwing a baseball: the effects of spin"
   ]
  },
  {
   "cell_type": "markdown",
   "metadata": {
    "slideshow": {
     "slide_type": "slide"
    }
   },
   "source": [
    "## Magnus force"
   ]
  },
  {
   "cell_type": "markdown",
   "metadata": {
    "slideshow": {
     "slide_type": "slide"
    }
   },
   "source": [
    "- Magnus force ($F_{drag}\\sim v^2~$)  "
   ]
  },
  {
   "cell_type": "markdown",
   "metadata": {
    "slideshow": {
     "slide_type": "slide"
    }
   },
   "source": [
    "  <img src=\"http://caihaopics.oss-cn-hangzhou.aliyuncs.com/18-9-29/40550415.jpg\" width=600/>"
   ]
  },
  {
   "cell_type": "markdown",
   "metadata": {
    "slideshow": {
     "slide_type": "slide"
    }
   },
   "source": [
    "<img src=\"http://caihaopics.oss-cn-hangzhou.aliyuncs.com/18-9-29/93548103.jpg\" width=600/>"
   ]
  },
  {
   "cell_type": "markdown",
   "metadata": {
    "slideshow": {
     "slide_type": "slide"
    }
   },
   "source": [
    "<img src=\"http://caihaopics.oss-cn-hangzhou.aliyuncs.com/18-9-30/89609799.jpg\" width=600/>"
   ]
  },
  {
   "cell_type": "markdown",
   "metadata": {
    "slideshow": {
     "slide_type": "slide"
    }
   },
   "source": [
    "- expression of Magnus force\n",
    "  $$F_M\\propto(v+r\\omega)^2-(v-r\\omega)^2\\sim vr\\omega$$\n",
    "  Thus the net spin-dependent force have the general form\n",
    "  $$\\vec F_M=S_0\\vec\\omega\\times\\vec v$$\n",
    "  $$F_M=S_0\\omega v_x$$"
   ]
  },
  {
   "cell_type": "markdown",
   "metadata": {
    "slideshow": {
     "slide_type": "slide"
    }
   },
   "source": [
    "## Curve ball"
   ]
  },
  {
   "cell_type": "markdown",
   "metadata": {
    "slideshow": {
     "slide_type": "slide"
    }
   },
   "source": [
    "- the equations of motion for a siderun curve ball\n",
    "  $$\\frac{dx}{dt}=v_x,~~~\\frac{dv_x}{dt}=-\\frac{B_2}{m}vv_x$$\n",
    "  $$\\frac{dy}{dt}=v_y,~~~\\frac{dv_y}{dt}=-g$$\n",
    "  $$\\frac{dz}{dt}=v_z,~~~\\frac{dv_z}{dt}=-\\frac{S_0v_x\\omega}{m}$$"
   ]
  },
  {
   "cell_type": "markdown",
   "metadata": {
    "slideshow": {
     "slide_type": "slide"
    }
   },
   "source": [
    "- siderun curve ball  "
   ]
  },
  {
   "cell_type": "markdown",
   "metadata": {},
   "source": [
    "<img src=\"http://caihaopics.oss-cn-hangzhou.aliyuncs.com/18-9-30/42042668.jpg\" width=600/>"
   ]
  },
  {
   "cell_type": "markdown",
   "metadata": {
    "slideshow": {
     "slide_type": "slide"
    }
   },
   "source": [
    "  <img src=\"http://caihaopics.oss-cn-hangzhou.aliyuncs.com/18-9-30/23000230.jpg\" width=600/>"
   ]
  },
  {
   "cell_type": "markdown",
   "metadata": {
    "slideshow": {
     "slide_type": "slide"
    }
   },
   "source": [
    "- overhand curve ball "
   ]
  },
  {
   "cell_type": "markdown",
   "metadata": {},
   "source": [
    "<img src=\"http://caihaopics.oss-cn-hangzhou.aliyuncs.com/18-9-30/39802639.jpg\" width=600/>"
   ]
  },
  {
   "cell_type": "markdown",
   "metadata": {
    "slideshow": {
     "slide_type": "slide"
    }
   },
   "source": [
    " \n",
    "  <img src=\"http://caihaopics.oss-cn-hangzhou.aliyuncs.com/18-9-30/35314998.jpg\" width=600/>"
   ]
  },
  {
   "cell_type": "markdown",
   "metadata": {
    "slideshow": {
     "slide_type": "slide"
    }
   },
   "source": [
    "- How to throw the curve ball?  "
   ]
  },
  {
   "cell_type": "markdown",
   "metadata": {
    "slideshow": {
     "slide_type": "slide"
    }
   },
   "source": [
    "  <img src=\"http://caihaopics.oss-cn-hangzhou.aliyuncs.com/18-9-30/34907735.jpg\" width=600/>"
   ]
  },
  {
   "cell_type": "markdown",
   "metadata": {
    "slideshow": {
     "slide_type": "slide"
    }
   },
   "source": [
    "## Knuckleball"
   ]
  },
  {
   "cell_type": "markdown",
   "metadata": {
    "slideshow": {
     "slide_type": "slide"
    }
   },
   "source": [
    "- effect of slow spin  "
   ]
  },
  {
   "cell_type": "markdown",
   "metadata": {
    "slideshow": {
     "slide_type": "slide"
    }
   },
   "source": [
    "  <img src=\"http://caihaopics.oss-cn-hangzhou.aliyuncs.com/18-9-30/9387531.jpg\" width=600/>"
   ]
  },
  {
   "cell_type": "markdown",
   "metadata": {
    "slideshow": {
     "slide_type": "slide"
    }
   },
   "source": [
    "- another Euler equation  \n",
    "  $$\\theta_{i+1}=\\theta_i+\\omega t,~~~\\omega=d\\theta/dt$$"
   ]
  },
  {
   "cell_type": "markdown",
   "metadata": {},
   "source": [
    "- lateral force (wind tunnel)\n",
    "  $$\\frac{F_{lateral}}{mg}=0.5[\\sin(4\\theta)-0.25\\sin(8\\theta)\\\\+0.08\\sin(12\\theta)-0.025\\sin(16\\theta)]$$"
   ]
  },
  {
   "cell_type": "markdown",
   "metadata": {
    "slideshow": {
     "slide_type": "slide"
    }
   },
   "source": [
    "- Knuckleball  "
   ]
  },
  {
   "cell_type": "markdown",
   "metadata": {
    "slideshow": {
     "slide_type": "slide"
    }
   },
   "source": [
    "  <img src=\"http://caihaopics.oss-cn-hangzhou.aliyuncs.com/18-9-30/67119199.jpg\" width=600/>"
   ]
  },
  {
   "cell_type": "markdown",
   "metadata": {
    "slideshow": {
     "slide_type": "slide"
    }
   },
   "source": [
    "- How to throw Kunckleball?  \n",
    "  <img src=\"http://bosoxinjection.com/files/2012/09/knuckleball.jpg\" width=\"40%\" style=\"float:left;margin:5px\"/><img src=\"https://upload.wikimedia.org/wikipedia/commons/8/8c/Wakefield_Throws_a_Knuckleball.jpg\" width=\"40%\" style=\"float:right;margin:5px\"/>"
   ]
  },
  {
   "cell_type": "markdown",
   "metadata": {
    "slideshow": {
     "slide_type": "slide"
    }
   },
   "source": [
    "# 2.5 Golf"
   ]
  },
  {
   "cell_type": "markdown",
   "metadata": {
    "slideshow": {
     "slide_type": "slide"
    }
   },
   "source": [
    "## Motion of golf"
   ]
  },
  {
   "cell_type": "markdown",
   "metadata": {
    "slideshow": {
     "slide_type": "slide"
    }
   },
   "source": [
    "- golf ball  "
   ]
  },
  {
   "cell_type": "markdown",
   "metadata": {
    "slideshow": {
     "slide_type": "slide"
    }
   },
   "source": [
    "  <img src=\"http://caihaopics.oss-cn-hangzhou.aliyuncs.com/18-9-30/3896137.jpg\" width=400/>"
   ]
  },
  {
   "cell_type": "markdown",
   "metadata": {
    "slideshow": {
     "slide_type": "slide"
    }
   },
   "source": [
    "- equation of motion for the golf ball\n",
    "  $$\\frac{dv_x}{dt}=-\\frac{F_{drag,x}}{m}-\\frac{S_0\\omega v_y}{m}$$\n",
    "  $$\\frac{dv_y}{dt}=-\\frac{F_{drag,y}}{m}+\\frac{S_0\\omega v_x}{m}-g$$"
   ]
  },
  {
   "cell_type": "markdown",
   "metadata": {
    "slideshow": {
     "slide_type": "slide"
    }
   },
   "source": [
    "- drag force is assumed as\n",
    "  $$F_{drag}=-C\\rho Av^2$$\n",
    "  with $C=\\frac{1}{2}$ for speeds up to $v=14m/s$, and $C=7.0/v$ at higher velocities"
   ]
  },
  {
   "cell_type": "markdown",
   "metadata": {
    "slideshow": {
     "slide_type": "slide"
    }
   },
   "source": [
    "- *turbulent flow*"
   ]
  },
  {
   "cell_type": "markdown",
   "metadata": {
    "slideshow": {
     "slide_type": "slide"
    }
   },
   "source": [
    "## topspin and backspin"
   ]
  },
  {
   "cell_type": "markdown",
   "metadata": {
    "slideshow": {
     "slide_type": "slide"
    }
   },
   "source": [
    "- significant amount of backspin  \n",
    "  <img src=\"http://www.sciencekids.co.nz/images/pictures/sports/tennisphysics.jpg\" width=90%/>"
   ]
  },
  {
   "cell_type": "markdown",
   "metadata": {},
   "source": [
    "- initial velocity of $70m/s$"
   ]
  },
  {
   "cell_type": "markdown",
   "metadata": {},
   "source": [
    "- trajectory of a golf ball "
   ]
  },
  {
   "cell_type": "markdown",
   "metadata": {},
   "source": [
    " \n",
    "  <img src=\"http://caihaopics.oss-cn-hangzhou.aliyuncs.com/18-9-30/51852523.jpg\" width=\"90%\"/>"
   ]
  }
 ],
 "metadata": {
  "kernelspec": {
   "display_name": "Python 3",
   "language": "python",
   "name": "python3"
  },
  "language_info": {
   "codemirror_mode": {
    "name": "ipython",
    "version": 3
   },
   "file_extension": ".py",
   "mimetype": "text/x-python",
   "name": "python",
   "nbconvert_exporter": "python",
   "pygments_lexer": "ipython3",
   "version": "3.6.9"
  },
  "nbTranslate": {
   "displayLangs": [
    "*"
   ],
   "hotkey": "alt-t",
   "langInMainMenu": true,
   "sourceLang": "en",
   "targetLang": "fr",
   "useGoogleTranslate": true
  },
  "toc": {
   "base_numbering": 1,
   "nav_menu": {},
   "number_sections": true,
   "sideBar": true,
   "skip_h1_title": false,
   "title_cell": "Table of Contents",
   "title_sidebar": "Contents",
   "toc_cell": false,
   "toc_position": {},
   "toc_section_display": true,
   "toc_window_display": false
  }
 },
 "nbformat": 4,
 "nbformat_minor": 2
}
