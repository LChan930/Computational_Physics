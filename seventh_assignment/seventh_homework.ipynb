{
 "cells": [
  {
   "cell_type": "markdown",
   "metadata": {},
   "source": [
    "# 第七次计算物理作业\n",
    "姓名：XXXXXXXX  学号：XXXXXXXXX 班级：XXXXXXXXX"
   ]
  },
  {
   "cell_type": "markdown",
   "metadata": {},
   "source": [
    "**3.37** Calculate the frequency spectra for the waveforms $z(t)$ for the Lorentz model. Compare the behavior in the chaotic, nonchaotic, intermittent, and period-doubled regimes."
   ]
  },
  {
   "cell_type": "markdown",
   "metadata": {},
   "source": [
    "**4.4** Investigate the orbit of Halley's comet. This comet has an orbital period of 76 yr and a distance of closest approach to the Sun of 0.59 AU. Use trial and error to determine its maximum orbital speed and maximum distance from the sun. How does its maximum distance compare with the orbit of Pluto?"
   ]
  }
 ],
 "metadata": {
  "kernelspec": {
   "display_name": "Python 3",
   "language": "python",
   "name": "python3"
  },
  "language_info": {
   "codemirror_mode": {
    "name": "ipython",
    "version": 3
   },
   "file_extension": ".py",
   "mimetype": "text/x-python",
   "name": "python",
   "nbconvert_exporter": "python",
   "pygments_lexer": "ipython3",
   "version": "3.7.4"
  }
 },
 "nbformat": 4,
 "nbformat_minor": 2
}
