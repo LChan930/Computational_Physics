{
 "cells": [
  {
   "cell_type": "markdown",
   "metadata": {
    "slideshow": {
     "slide_type": "slide"
    }
   },
   "source": [
    "# Python Tutorial\n",
    "\n",
    "*Heavily based on presentations by Guido van Rossum*\n",
    "\n",
    "**Cai Hao**\n",
    "\n",
    "*Wuhan University*"
   ]
  },
  {
   "cell_type": "markdown",
   "metadata": {
    "slideshow": {
     "slide_type": "slide"
    }
   },
   "source": [
    "## Why Python?"
   ]
  },
  {
   "cell_type": "markdown",
   "metadata": {
    "slideshow": {
     "slide_type": "slide"
    }
   },
   "source": [
    "<img src=\"https://upload.wikimedia.org/wikipedia/commons/6/66/Guido_van_Rossum_OSCON_2006.jpg\" width=32% style=\"float:left;margin:10px\"/> Guido van Rossum (Dutch pronunciation: [ˈɣido vɑn ˈrɔsʏm, -səm], born 31 January 1956) is a Dutch programmer who is best known as the author of the Python programming language. In the Python community, Van Rossum is known as a \"Benevolent Dictator For Life\" (BDFL), meaning that he continues to oversee the Python development process, making decisions where necessary. He was employed by Google from 2005 until 7 December 2012, where he spent half his time developing the Python language. In January 2013, Van Rossum started working for Dropbox."
   ]
  },
  {
   "cell_type": "markdown",
   "metadata": {
    "slideshow": {
     "slide_type": "slide"
    }
   },
   "source": [
    "- Open source general-purpose language.\n",
    "- Object Oriented, Procedural, Functional\n",
    "- Easy to interface with C/ObjC/Java/Fortran\n",
    "- Easy-ish to interface with C++ (via SWIG)\n",
    "- Great interactive environment"
   ]
  },
  {
   "cell_type": "markdown",
   "metadata": {
    "slideshow": {
     "slide_type": "slide"
    }
   },
   "source": [
    "## 2.x / 3.x ???"
   ]
  },
  {
   "cell_type": "markdown",
   "metadata": {
    "slideshow": {
     "slide_type": "slide"
    }
   },
   "source": [
    "## A Code Sample"
   ]
  },
  {
   "cell_type": "code",
   "execution_count": 2,
   "metadata": {
    "slideshow": {
     "slide_type": "slide"
    }
   },
   "outputs": [
    {
     "name": "stdout",
     "output_type": "stream",
     "text": [
      "-2264\n",
      "Hello\n",
      "ftyyuuii\n"
     ]
    }
   ],
   "source": [
    "x = 34 - 2298                 # A comment.\n",
    "y = \"Hello\"                 # Another one.\n",
    "z = 3.45\n",
    "if z != 3.45 or y   != \"Hello\":\n",
    "    x = x + 1\n",
    "    y = y + \" World\"        # String concat.\n",
    "print(x)\n",
    "print(y)\n",
    "print('ftyyuuii')"
   ]
  },
  {
   "cell_type": "markdown",
   "metadata": {
    "slideshow": {
     "slide_type": "slide"
    }
   },
   "source": [
    "# The Basics"
   ]
  },
  {
   "cell_type": "markdown",
   "metadata": {
    "slideshow": {
     "slide_type": "slide"
    }
   },
   "source": [
    "## Basic Datatypes"
   ]
  },
  {
   "cell_type": "markdown",
   "metadata": {
    "slideshow": {
     "slide_type": "slide"
    }
   },
   "source": [
    "- Integers (default for numbers)"
   ]
  },
  {
   "cell_type": "code",
   "execution_count": 7,
   "metadata": {
    "slideshow": {
     "slide_type": "slide"
    }
   },
   "outputs": [
    {
     "name": "stdout",
     "output_type": "stream",
     "text": [
      "501237274920645200929755593374297774932156778133842583942142904227923953095078404018911069624842241336152184928620583720813274431768912730164821689547957811858742091111606122893848778402106681337735526081024957895721629712394089914022728984790421934879061713094772548592209108202603733257290166745030824473942446932040528665942308995221516922485809786795148731596082421380780454150838788867016523039922373131038641998175346338422877206054827564503235371169342436537325371943262018889434939990352804741697175505229254495331805689764874397989923275238841523573610576685490726802859819243653745732469692095356139819452233638457056770021400240594885718525026966278533101472229720144032290786176830303145623665755496360435599490323650572513025568234813704903083110444967390315478507643109709272470218811875684828428764846892265382195023886652123717092319225795594504960409044935368159521323778477017741777612142181821006771410662559184976660999925725059040493322464748516167697539730940448840082455864794427615836054554791385680376240555705705310640418914818432725632573900544375824289225110055381037572119488782802137254540743080359621754381456908672408840312897273852983806583141222160707728822053038238791525934900318958546031249932024098120872828088522712585702762195822969999737149010278411273267955845307034422962301693341819997141990129612648433981620894792079019269779218590761005440910777627130764809098131096632482838769231241354777310560506433916680450440171003075072638112146980748862972946289929742675258203358925444444756128485856884144877414969242528666963578568637990776356798944244368071275509913087832493228358727719463576937914165532431608736295823935850859602956501109544230207150342931374544601730528542990287355117226857435878992634677538783076731943101431231045219781733374608602456168971026916693136158979776343356397548327322689834826808251734636541021077910049779023642268457966054797804824736355644137564830595195451710237567879066439637258863004431176018386776125128648907629975770682763734191612197885648987874414165677042966711549856588653598408785500510685422317100298636543095941781200665686910806676041791991660514805632001035661874841652588320725707204618392142041484225612192457193974542099053730847597863337709199087948240520374012043494856466305707081247481972202946367819195209595885576564985479790372415190677667000598731151849814821780123592208917642142030152030072345481433382028329653192843312897129746236431981037750673145698908171385842694922445274810025912238416221522964351310630716198843932889821072030767508727091189405842713600224696110573235906544878846905387077857714046817137263818949931999780818432216728143326751002084575991984448963126429329855626472693024632620284389189569670626615141486480804667453766420052496208897899505339796907075749537925047639481099763394122954271668354214390461767075418949890757259815191735264809970480070623361261573386514423542116869959176227001051563415790066616730825389882550260549507356114926580661910358222186375052336626266396402920632455598407896677249075761328197632867250849378782054312978742146244372951153580324736875773015930589182005552613663380708208872090140751121108070186419534331882423382367231944116724985872384527946229533975200406009001175802553214211153583756335157100765941906016450622721056054785607907185614408709570609828729532194324073488303302169036381960864388576191326222063244533733156581375408659001285321684805335368617568283346867216329052732662620063658741831668787969703213340473542743542428508141091255419451769988466856089208450520741907702099600483335498521201163906681930066993336236094152793640529094686014991047088567105036260241152984467148870713490171710544611678764028106865825472006041963865952640276359450204310988738219705820340812476815469097461226193788465670121137455267380417275432557572871608813126741106427067715077700446202963319028927281969031661662735406952175070643446625878004294217525925732787544471487517642287816665575212425898205804148211536011850940665603144025098461900787902851141978648684835989682954921587387359499174492624708879549495025699365621180548950685097839585688157497849803802821714251372580052696412724434703674022001063816114251886079232743396991596837423584366398189226464881419833119900753928453879213723358991885164427168096353272861050545472688805451103643848013764843560502057319564217463145659707549025084226202528260927064071986667392548726459671172876646857330843589064031642100599431845417950711812059033443567112212757966231091347086555913182834014996628737859860706363179544558644455988199239032683220585664732242414913300291805168883958416214643036502478617783596157493232794260645582238010867705342559140264228808665610103214830997010446445153510172728006955669405306868569284423345052162076133101082758484204592864812776997646686279848506911866956485835893139608450871727100347954363706373163539008250530086790356183908280480933561398765472391006350924115874795796908769162764935162685121217250587170981896177333661824521517740754624065791036389274734921852267489894296164575044519359650614378654414198029034981769790845165837795906046315032565519352696462766106466774105071205787834267206183069164777673655331271336759603320460173126429741103074617460051610779377015122759270981845734044825361795166155820300919677836620236783353179010718633301247076648569928200445002452215470840284904784133729178494401821202806372418839442985275000609749798001855744591950991476089426637337222360186304365734543808390772428120270178709737770267613656623033355067765430185322107356853491344895509147430824382392603123813423730008797670095034073316230771848727933146860746745865795444364424130996435352645486982951723440522148302297083635331266905503420769986068776339277919600600368562314114319743568285546959663177509148945038701976847256620199663340609479213006239431672152430633078299619196445931106142003725770997007643638057570970191655409277156373433106416281124602277596026388331031116019967860952401669705220529365900799553267986640809567406320362311743977122119131956453604985607765737547440970987459542154102203452263287960968377547987715890093752997493407388257508916131741723862220177236888963407540326619079083531045575460224805677770108749031517837167683210260625791674114454386967291103177135211139321709106870148546832706900213216476908287228957454762017329216819341562992732298419110445451173007065816069528688872728858045204300785998475316449398597840062316796782985809958338705685529092798256957500833068994134050768770009905366006611480101959982790150501190128112172125707025128669728944606022132595881423926619388931735753935389312422762490037327411044350459969394535298110306704469261006337618669413404428685440302666300633585405872847618283921044509855877458728129059338704479794048883771725188957128263876122473094366610892593268417179320764593045997353942365453235709236555445002641997162224383683243256227625731486390554649930202182755869676383936027544370832840538165786625768305384553968906402587890625\n",
      "2\n"
     ]
    }
   ],
   "source": [
    "z = 5**10000\n",
    "y = 17 % 5\n",
    "print(z)\n",
    "print(y)"
   ]
  },
  {
   "cell_type": "markdown",
   "metadata": {
    "slideshow": {
     "slide_type": "slide"
    }
   },
   "source": [
    "- Floats"
   ]
  },
  {
   "cell_type": "code",
   "execution_count": 3,
   "metadata": {
    "slideshow": {
     "slide_type": "slide"
    }
   },
   "outputs": [],
   "source": [
    "x = 3.456"
   ]
  },
  {
   "cell_type": "markdown",
   "metadata": {
    "slideshow": {
     "slide_type": "slide"
    }
   },
   "source": [
    "- Strings"
   ]
  },
  {
   "cell_type": "code",
   "execution_count": 9,
   "metadata": {
    "slideshow": {
     "slide_type": "slide"
    }
   },
   "outputs": [
    {
     "data": {
      "text/plain": [
       "'a'"
      ]
     },
     "execution_count": 9,
     "metadata": {},
     "output_type": "execute_result"
    }
   ],
   "source": [
    "# Can use \"\" or '' to specify\n",
    "\"abc\" == 'abc'\n",
    "a = \"abc\"\n",
    "a[0]"
   ]
  },
  {
   "cell_type": "code",
   "execution_count": 10,
   "metadata": {
    "slideshow": {
     "slide_type": "slide"
    }
   },
   "outputs": [
    {
     "name": "stdout",
     "output_type": "stream",
     "text": [
      "matt\"s\n"
     ]
    }
   ],
   "source": [
    "# Unmatched can occur within the string\n",
    "print('matt\"s')"
   ]
  },
  {
   "cell_type": "code",
   "execution_count": 11,
   "metadata": {
    "slideshow": {
     "slide_type": "slide"
    }
   },
   "outputs": [
    {
     "name": "stdout",
     "output_type": "stream",
     "text": [
      "a'b\"c\n"
     ]
    }
   ],
   "source": [
    "# Use triple double-quotes for multi-line strings or strings \n",
    "# than contain both ' and \" inside of them\n",
    "print(\"\"\"a'b\"c\"\"\")"
   ]
  },
  {
   "cell_type": "markdown",
   "metadata": {
    "slideshow": {
     "slide_type": "slide"
    }
   },
   "source": [
    "## Whitespace"
   ]
  },
  {
   "cell_type": "markdown",
   "metadata": {
    "slideshow": {
     "slide_type": "slide"
    }
   },
   "source": [
    "Whitespace is meaningful in Python: especially\n",
    "indentation and placement of newlines. "
   ]
  },
  {
   "cell_type": "markdown",
   "metadata": {
    "slideshow": {
     "slide_type": "slide"
    }
   },
   "source": [
    "- Use a newline to end a line of code.\n",
    "  - Use `\\n` when must go to next line prematurely."
   ]
  },
  {
   "cell_type": "code",
   "execution_count": 7,
   "metadata": {
    "slideshow": {
     "slide_type": "slide"
    }
   },
   "outputs": [
    {
     "name": "stdout",
     "output_type": "stream",
     "text": [
      "test\n",
      "test\n"
     ]
    }
   ],
   "source": [
    "print(\"test\\ntest\")"
   ]
  },
  {
   "cell_type": "markdown",
   "metadata": {
    "slideshow": {
     "slide_type": "slide"
    }
   },
   "source": [
    "- No braces { } to mark blocks of code in Python…      \n",
    "  Use consistent indentation instead."
   ]
  },
  {
   "cell_type": "code",
   "execution_count": 15,
   "metadata": {
    "slideshow": {
     "slide_type": "slide"
    }
   },
   "outputs": [
    {
     "name": "stdout",
     "output_type": "stream",
     "text": [
      "a+m+d+xyz+"
     ]
    },
    {
     "data": {
      "text/plain": [
       "range(0, 10)"
      ]
     },
     "execution_count": 15,
     "metadata": {},
     "output_type": "execute_result"
    }
   ],
   "source": [
    "for i in ['a','m','d','xyz']:\n",
    "    print(i, end=\"+\")\n",
    "range(10)"
   ]
  },
  {
   "cell_type": "markdown",
   "metadata": {
    "slideshow": {
     "slide_type": "slide"
    }
   },
   "source": [
    "- Often a colon appears at the start of a new block.        \n",
    "  (E.g. for function and class definitions.)"
   ]
  },
  {
   "cell_type": "code",
   "execution_count": 17,
   "metadata": {
    "slideshow": {
     "slide_type": "slide"
    }
   },
   "outputs": [
    {
     "name": "stdout",
     "output_type": "stream",
     "text": [
      "22\n",
      "22.1\n"
     ]
    },
    {
     "ename": "TypeError",
     "evalue": "must be str, not int",
     "output_type": "error",
     "traceback": [
      "\u001b[1;31m---------------------------------------------------------------------------\u001b[0m",
      "\u001b[1;31mTypeError\u001b[0m                                 Traceback (most recent call last)",
      "\u001b[1;32m<ipython-input-17-05bb9a13f444>\u001b[0m in \u001b[0;36m<module>\u001b[1;34m\u001b[0m\n\u001b[0;32m      3\u001b[0m \u001b[0mprint\u001b[0m\u001b[1;33m(\u001b[0m\u001b[0mf\u001b[0m\u001b[1;33m(\u001b[0m\u001b[1;36m12\u001b[0m\u001b[1;33m)\u001b[0m\u001b[1;33m)\u001b[0m\u001b[1;33m\u001b[0m\u001b[1;33m\u001b[0m\u001b[0m\n\u001b[0;32m      4\u001b[0m \u001b[0mprint\u001b[0m\u001b[1;33m(\u001b[0m\u001b[0mf\u001b[0m\u001b[1;33m(\u001b[0m\u001b[1;36m12.1\u001b[0m\u001b[1;33m)\u001b[0m\u001b[1;33m)\u001b[0m\u001b[1;33m\u001b[0m\u001b[1;33m\u001b[0m\u001b[0m\n\u001b[1;32m----> 5\u001b[1;33m \u001b[0mprint\u001b[0m\u001b[1;33m(\u001b[0m\u001b[0mf\u001b[0m\u001b[1;33m(\u001b[0m\u001b[1;34m\"abc\"\u001b[0m\u001b[1;33m)\u001b[0m\u001b[1;33m)\u001b[0m\u001b[1;33m\u001b[0m\u001b[1;33m\u001b[0m\u001b[0m\n\u001b[0m",
      "\u001b[1;32m<ipython-input-17-05bb9a13f444>\u001b[0m in \u001b[0;36mf\u001b[1;34m(x)\u001b[0m\n\u001b[0;32m      1\u001b[0m \u001b[1;32mdef\u001b[0m \u001b[0mf\u001b[0m\u001b[1;33m(\u001b[0m\u001b[0mx\u001b[0m\u001b[1;33m)\u001b[0m\u001b[1;33m:\u001b[0m\u001b[1;33m\u001b[0m\u001b[1;33m\u001b[0m\u001b[0m\n\u001b[1;32m----> 2\u001b[1;33m     \u001b[1;32mreturn\u001b[0m\u001b[1;33m(\u001b[0m\u001b[0mx\u001b[0m \u001b[1;33m+\u001b[0m \u001b[1;36m10\u001b[0m\u001b[1;33m)\u001b[0m\u001b[1;33m\u001b[0m\u001b[1;33m\u001b[0m\u001b[0m\n\u001b[0m\u001b[0;32m      3\u001b[0m \u001b[0mprint\u001b[0m\u001b[1;33m(\u001b[0m\u001b[0mf\u001b[0m\u001b[1;33m(\u001b[0m\u001b[1;36m12\u001b[0m\u001b[1;33m)\u001b[0m\u001b[1;33m)\u001b[0m\u001b[1;33m\u001b[0m\u001b[1;33m\u001b[0m\u001b[0m\n\u001b[0;32m      4\u001b[0m \u001b[0mprint\u001b[0m\u001b[1;33m(\u001b[0m\u001b[0mf\u001b[0m\u001b[1;33m(\u001b[0m\u001b[1;36m12.1\u001b[0m\u001b[1;33m)\u001b[0m\u001b[1;33m)\u001b[0m\u001b[1;33m\u001b[0m\u001b[1;33m\u001b[0m\u001b[0m\n\u001b[0;32m      5\u001b[0m \u001b[0mprint\u001b[0m\u001b[1;33m(\u001b[0m\u001b[0mf\u001b[0m\u001b[1;33m(\u001b[0m\u001b[1;34m\"abc\"\u001b[0m\u001b[1;33m)\u001b[0m\u001b[1;33m)\u001b[0m\u001b[1;33m\u001b[0m\u001b[1;33m\u001b[0m\u001b[0m\n",
      "\u001b[1;31mTypeError\u001b[0m: must be str, not int"
     ]
    }
   ],
   "source": [
    "def f(x):\n",
    "    return(x + 10)\n",
    "print(f(12))\n",
    "print(f(12.1))\n",
    "print(f(\"abc\"))"
   ]
  },
  {
   "cell_type": "markdown",
   "metadata": {
    "slideshow": {
     "slide_type": "slide"
    }
   },
   "source": [
    "## Comments"
   ]
  },
  {
   "cell_type": "markdown",
   "metadata": {
    "slideshow": {
     "slide_type": "slide"
    }
   },
   "source": [
    "- Start comments with # – the rest of line is ignored.\n",
    "- Can include a \"documentation string\" as the first line of \n",
    "  any new function or class that you define\n",
    "- The development environment, debugger, and other tools use\n",
    "  it: it’s good style to include one."
   ]
  },
  {
   "cell_type": "code",
   "execution_count": 8,
   "metadata": {
    "slideshow": {
     "slide_type": "slide"
    }
   },
   "outputs": [
    {
     "name": "stdout",
     "output_type": "stream",
     "text": [
      "This is the docstring. This\n",
      "    function does blah blah blah.\n"
     ]
    }
   ],
   "source": [
    "def my_function(x, y):\n",
    "    \"\"\"This is the docstring. This\n",
    "    function does blah blah blah.\"\"\"\n",
    "    # The code would go here...\n",
    "print(my_function.__doc__)"
   ]
  },
  {
   "cell_type": "markdown",
   "metadata": {
    "slideshow": {
     "slide_type": "slide"
    }
   },
   "source": [
    "## Assignment"
   ]
  },
  {
   "cell_type": "markdown",
   "metadata": {
    "slideshow": {
     "slide_type": "slide"
    }
   },
   "source": [
    "- Binding a variable in Python means setting a name to hold a\n",
    "  reference to some object.\n",
    "  - Assignment creates references, not copies"
   ]
  },
  {
   "cell_type": "markdown",
   "metadata": {
    "slideshow": {
     "slide_type": "slide"
    }
   },
   "source": [
    "- Names in Python do not have an intrinsic type. Objects have\n",
    "  types.\n",
    "  - Python determines the type of the reference automatically based on the\n",
    "    data object assigned to it."
   ]
  },
  {
   "cell_type": "markdown",
   "metadata": {
    "slideshow": {
     "slide_type": "slide"
    }
   },
   "source": [
    "- You create a name the first time it appears on the left side of\n",
    "  an assignment expression:"
   ]
  },
  {
   "cell_type": "code",
   "execution_count": 12,
   "metadata": {
    "slideshow": {
     "slide_type": "slide"
    }
   },
   "outputs": [],
   "source": [
    "x = 3"
   ]
  },
  {
   "cell_type": "markdown",
   "metadata": {
    "slideshow": {
     "slide_type": "slide"
    }
   },
   "source": [
    "- A reference is deleted via garbage collection after any names\n",
    "  bound to it have passed out of scope."
   ]
  },
  {
   "cell_type": "markdown",
   "metadata": {
    "slideshow": {
     "slide_type": "slide"
    }
   },
   "source": [
    "## Accessing Non-Existent Names"
   ]
  },
  {
   "cell_type": "markdown",
   "metadata": {
    "slideshow": {
     "slide_type": "slide"
    }
   },
   "source": [
    "If you try to access a name before it’s been properly created\n",
    "(by placing it on the left side of an assignment), you’ll get an\n",
    "error. "
   ]
  },
  {
   "cell_type": "code",
   "execution_count": 18,
   "metadata": {
    "slideshow": {
     "slide_type": "slide"
    }
   },
   "outputs": [
    {
     "ename": "NameError",
     "evalue": "name 'yy' is not defined",
     "output_type": "error",
     "traceback": [
      "\u001b[1;31m---------------------------------------------------------------------------\u001b[0m",
      "\u001b[1;31mNameError\u001b[0m                                 Traceback (most recent call last)",
      "\u001b[1;32m<ipython-input-18-6daa41ef554c>\u001b[0m in \u001b[0;36m<module>\u001b[1;34m\u001b[0m\n\u001b[1;32m----> 1\u001b[1;33m \u001b[0myy\u001b[0m\u001b[1;33m\u001b[0m\u001b[1;33m\u001b[0m\u001b[0m\n\u001b[0m",
      "\u001b[1;31mNameError\u001b[0m: name 'yy' is not defined"
     ]
    }
   ],
   "source": [
    "yy"
   ]
  },
  {
   "cell_type": "code",
   "execution_count": 14,
   "metadata": {
    "slideshow": {
     "slide_type": "slide"
    }
   },
   "outputs": [
    {
     "data": {
      "text/plain": [
       "3"
      ]
     },
     "execution_count": 14,
     "metadata": {},
     "output_type": "execute_result"
    }
   ],
   "source": [
    "yy = 3\n",
    "yy"
   ]
  },
  {
   "cell_type": "markdown",
   "metadata": {
    "slideshow": {
     "slide_type": "slide"
    }
   },
   "source": [
    "## Multiple Assignment"
   ]
  },
  {
   "cell_type": "markdown",
   "metadata": {
    "slideshow": {
     "slide_type": "slide"
    }
   },
   "source": [
    "You can also assign to multiple names at the same time."
   ]
  },
  {
   "cell_type": "code",
   "execution_count": 15,
   "metadata": {
    "slideshow": {
     "slide_type": "slide"
    }
   },
   "outputs": [
    {
     "data": {
      "text/plain": [
       "2"
      ]
     },
     "execution_count": 15,
     "metadata": {},
     "output_type": "execute_result"
    }
   ],
   "source": [
    "x, y = 2, 3\n",
    "x"
   ]
  },
  {
   "cell_type": "code",
   "execution_count": 16,
   "metadata": {
    "slideshow": {
     "slide_type": "slide"
    }
   },
   "outputs": [
    {
     "ename": "SyntaxError",
     "evalue": "invalid syntax (<ipython-input-16-3864645d37d4>, line 2)",
     "output_type": "error",
     "traceback": [
      "\u001b[0;36m  File \u001b[0;32m\"<ipython-input-16-3864645d37d4>\"\u001b[0;36m, line \u001b[0;32m2\u001b[0m\n\u001b[0;31m    def = 9\u001b[0m\n\u001b[0m        ^\u001b[0m\n\u001b[0;31mSyntaxError\u001b[0m\u001b[0;31m:\u001b[0m invalid syntax\n"
     ]
    }
   ],
   "source": [
    "y\n",
    "def = 9"
   ]
  },
  {
   "cell_type": "markdown",
   "metadata": {
    "slideshow": {
     "slide_type": "slide"
    }
   },
   "source": [
    "## Naming Rules"
   ]
  },
  {
   "cell_type": "markdown",
   "metadata": {
    "slideshow": {
     "slide_type": "slide"
    }
   },
   "source": [
    "- Names are case sensitive and cannot start with a number.\n",
    "  They can contain letters, numbers, and underscores.\n",
    "  bob Bob _bob _2_bob bob_2 BoB"
   ]
  },
  {
   "cell_type": "markdown",
   "metadata": {
    "slideshow": {
     "slide_type": "slide"
    }
   },
   "source": [
    "- There are some reserved words:"
   ]
  },
  {
   "cell_type": "raw",
   "metadata": {
    "slideshow": {
     "slide_type": "slide"
    }
   },
   "source": [
    "  and, assert, break, class, continue, def, del, elif,\n",
    "  else, except, exec, finally, for, from, global, if,\n",
    "  import, in, is, lambda, not, or, pass, print, raise,\n",
    "  return, try, while"
   ]
  },
  {
   "cell_type": "markdown",
   "metadata": {
    "slideshow": {
     "slide_type": "slide"
    }
   },
   "source": [
    "# Understanding Reference Semantics in Python"
   ]
  },
  {
   "cell_type": "markdown",
   "metadata": {
    "slideshow": {
     "slide_type": "slide"
    }
   },
   "source": [
    "## Understanding Reference Semantics"
   ]
  },
  {
   "cell_type": "markdown",
   "metadata": {
    "slideshow": {
     "slide_type": "slide"
    }
   },
   "source": [
    "- Assignment manipulates references"
   ]
  },
  {
   "cell_type": "code",
   "execution_count": 17,
   "metadata": {
    "slideshow": {
     "slide_type": "slide"
    }
   },
   "outputs": [],
   "source": [
    "x = y\n",
    "# does not make a copy of the object y references\n",
    "# makes x reference the object y reference"
   ]
  },
  {
   "cell_type": "markdown",
   "metadata": {
    "slideshow": {
     "slide_type": "slide"
    }
   },
   "source": [
    "- Very useful; but beware!"
   ]
  },
  {
   "cell_type": "code",
   "execution_count": 18,
   "metadata": {
    "slideshow": {
     "slide_type": "slide"
    }
   },
   "outputs": [
    {
     "name": "stdout",
     "output_type": "stream",
     "text": [
      "[1, 2, 3, 4]\n"
     ]
    }
   ],
   "source": [
    "a = [1, 2, 3, 4] # a now references the list [1, 2, 3, 4]\n",
    "b = a # b now references what a references\n",
    "a.append(4) # this changes the list a references\n",
    "print(b) # if we print what b references,"
   ]
  },
  {
   "cell_type": "markdown",
   "metadata": {
    "slideshow": {
     "slide_type": "slide"
    }
   },
   "source": [
    "**Why???**"
   ]
  },
  {
   "cell_type": "markdown",
   "metadata": {
    "slideshow": {
     "slide_type": "slide"
    }
   },
   "source": [
    "### There is a lot going on when we type:"
   ]
  },
  {
   "cell_type": "code",
   "execution_count": 19,
   "metadata": {
    "slideshow": {
     "slide_type": "slide"
    }
   },
   "outputs": [],
   "source": [
    "x = 3"
   ]
  },
  {
   "cell_type": "markdown",
   "metadata": {
    "slideshow": {
     "slide_type": "slide"
    }
   },
   "source": [
    "- First, an integer 3 is created and stored in memory\n",
    "- A name x is created\n",
    "- An reference to the memory location storing the 3 is then\n",
    "  assigned to the name x\n",
    "- So: When we say that the value of x is 3,     \n",
    "  we mean that x now refers to the integer 3"
   ]
  },
  {
   "cell_type": "code",
   "execution_count": 19,
   "metadata": {
    "slideshow": {
     "slide_type": "slide"
    }
   },
   "outputs": [],
   "source": [
    "%load_ext nbtutor"
   ]
  },
  {
   "cell_type": "code",
   "execution_count": 20,
   "metadata": {
    "slideshow": {
     "slide_type": "slide"
    }
   },
   "outputs": [],
   "source": [
    "%%nbtutor -r -f\n",
    "x = 3"
   ]
  },
  {
   "cell_type": "markdown",
   "metadata": {
    "slideshow": {
     "slide_type": "slide"
    }
   },
   "source": [
    "- In Python, the datatypes integer, float, and string \n",
    "  (and tuple) are \"immutable\""
   ]
  },
  {
   "cell_type": "markdown",
   "metadata": {
    "slideshow": {
     "slide_type": "slide"
    }
   },
   "source": [
    "- If we increment x, then what's really happening is:"
   ]
  },
  {
   "cell_type": "code",
   "execution_count": 21,
   "metadata": {
    "slideshow": {
     "slide_type": "slide"
    }
   },
   "outputs": [
    {
     "name": "stdout",
     "output_type": "stream",
     "text": [
      "4\n"
     ]
    }
   ],
   "source": [
    "x = 3\n",
    "x = x + 1\n",
    "print(x)"
   ]
  },
  {
   "cell_type": "markdown",
   "metadata": {
    "slideshow": {
     "slide_type": "slide"
    }
   },
   "source": [
    "1. The reference of name x is looked up.    \n",
    "2. The value at that reference is retrieved.\n",
    "3. The 3+1 calculation occurs, producing a new data element 4 which is assigned to a fresh memory location with a new reference.\n",
    "4. The name x is changed to point to this new reference.\n",
    "5. The old data 3 is garbage collected if no name still refers to it."
   ]
  },
  {
   "cell_type": "code",
   "execution_count": 23,
   "metadata": {
    "slideshow": {
     "slide_type": "slide"
    }
   },
   "outputs": [
    {
     "name": "stdout",
     "output_type": "stream",
     "text": [
      "4\n"
     ]
    }
   ],
   "source": [
    "%%nbtutor\n",
    "x = 3\n",
    "x = x + 1\n",
    "print(x)"
   ]
  },
  {
   "cell_type": "markdown",
   "metadata": {
    "slideshow": {
     "slide_type": "slide"
    }
   },
   "source": [
    "## Assignment 1"
   ]
  },
  {
   "cell_type": "markdown",
   "metadata": {
    "slideshow": {
     "slide_type": "slide"
    }
   },
   "source": [
    "So, for simple built-in datatypes (integers, floats, strings),\n",
    "assignment behaves as you would expect:"
   ]
  },
  {
   "cell_type": "code",
   "execution_count": 12,
   "metadata": {
    "slideshow": {
     "slide_type": "slide"
    }
   },
   "outputs": [
    {
     "name": "nbtutor",
     "output_type": "stream",
     "text": [
      "3\n"
     ]
    }
   ],
   "source": [
    "%%nbtutor -r -f\n",
    "x = 3 # Creates 3, name x refers to 3\n",
    "y = x # Creates name y, refers to 3.\n",
    "y = 4 # Creates ref for 4. Changes y.\n",
    "print(x) # No effect on x, still ref 3."
   ]
  },
  {
   "cell_type": "markdown",
   "metadata": {
    "slideshow": {
     "slide_type": "slide"
    }
   },
   "source": [
    "## Assignment 2"
   ]
  },
  {
   "cell_type": "markdown",
   "metadata": {
    "slideshow": {
     "slide_type": "slide"
    }
   },
   "source": [
    "For other data types (lists, dictionaries, user-defined types), assignment\n",
    "works differently. "
   ]
  },
  {
   "cell_type": "markdown",
   "metadata": {
    "slideshow": {
     "slide_type": "slide"
    }
   },
   "source": [
    "- These datatypes are “mutable.” \n",
    "- When we change these data, we do it in place. \n",
    "- We don’t copy them into a new memory address each time. \n",
    "- If we type y=x and then modify y, both x and y are changed."
   ]
  },
  {
   "cell_type": "markdown",
   "metadata": {
    "slideshow": {
     "slide_type": "slide"
    }
   },
   "source": [
    "**Why? Changing a Shared List**"
   ]
  },
  {
   "cell_type": "code",
   "execution_count": 13,
   "metadata": {
    "slideshow": {
     "slide_type": "slide"
    }
   },
   "outputs": [
    {
     "name": "nbtutor",
     "output_type": "stream",
     "text": [
      "[1, 2, 3, 4]\n"
     ]
    }
   ],
   "source": [
    "%%nbtutor -r -f\n",
    "a = [1, 2, 3] # a now references the list [1, 2, 3]\n",
    "b = a # b now references what a references\n",
    "a.append(4) # this changes the list a references\n",
    "print(b) # if we print what b references"
   ]
  },
  {
   "cell_type": "markdown",
   "metadata": {
    "slideshow": {
     "slide_type": "slide"
    }
   },
   "source": [
    "# Sequence types:"
   ]
  },
  {
   "cell_type": "markdown",
   "metadata": {
    "slideshow": {
     "slide_type": "slide"
    }
   },
   "source": [
    "Tuples, Lists, and Strings"
   ]
  },
  {
   "cell_type": "markdown",
   "metadata": {
    "slideshow": {
     "slide_type": "slide"
    }
   },
   "source": [
    "1) Tuple\n",
    "    - A simple immutable ordered sequence of items\n",
    "    - Items can be of mixed types, including collection types"
   ]
  },
  {
   "cell_type": "markdown",
   "metadata": {
    "slideshow": {
     "slide_type": "slide"
    }
   },
   "source": [
    "2) Strings\n",
    "    - Immutable\n",
    "    - Conceptually very much like a tuple"
   ]
  },
  {
   "cell_type": "markdown",
   "metadata": {
    "slideshow": {
     "slide_type": "slide"
    }
   },
   "source": [
    "3) List\n",
    "    - Mutable ordered sequence of items of mixed types"
   ]
  },
  {
   "cell_type": "markdown",
   "metadata": {
    "slideshow": {
     "slide_type": "slide"
    }
   },
   "source": [
    "## Similar Syntax"
   ]
  },
  {
   "cell_type": "markdown",
   "metadata": {
    "slideshow": {
     "slide_type": "slide"
    }
   },
   "source": [
    "- All three sequence types (tuples, strings, and lists)\n",
    "  share much of the same syntax and functionality."
   ]
  },
  {
   "cell_type": "markdown",
   "metadata": {
    "slideshow": {
     "slide_type": "slide"
    }
   },
   "source": [
    "- Key difference:\n",
    "  - Tuples and strings are immutable\n",
    "  - Lists are mutable"
   ]
  },
  {
   "cell_type": "markdown",
   "metadata": {
    "slideshow": {
     "slide_type": "slide"
    }
   },
   "source": [
    "- The operations shown in this section can be\n",
    "  applied to all sequence types\n",
    "  - most examples will just show the operation\n",
    "    performed on one"
   ]
  },
  {
   "cell_type": "markdown",
   "metadata": {
    "slideshow": {
     "slide_type": "slide"
    }
   },
   "source": [
    "## Definition of sequence object"
   ]
  },
  {
   "cell_type": "markdown",
   "metadata": {
    "slideshow": {
     "slide_type": "slide"
    }
   },
   "source": [
    "- Tuples are defined using parentheses (and commas)."
   ]
  },
  {
   "cell_type": "code",
   "execution_count": 24,
   "metadata": {
    "slideshow": {
     "slide_type": "slide"
    }
   },
   "outputs": [
    {
     "ename": "TypeError",
     "evalue": "'tuple' object does not support item assignment",
     "output_type": "error",
     "traceback": [
      "\u001b[1;31m---------------------------------------------------------------------------\u001b[0m",
      "\u001b[1;31mTypeError\u001b[0m                                 Traceback (most recent call last)",
      "\u001b[1;32m<ipython-input-24-416ed1942134>\u001b[0m in \u001b[0;36m<module>\u001b[1;34m\u001b[0m\n\u001b[0;32m      1\u001b[0m \u001b[0mtu\u001b[0m \u001b[1;33m=\u001b[0m \u001b[1;33m(\u001b[0m\u001b[1;36m23\u001b[0m\u001b[1;33m,\u001b[0m \u001b[1;34m'abc'\u001b[0m\u001b[1;33m,\u001b[0m \u001b[1;36m4.56\u001b[0m\u001b[1;33m,\u001b[0m \u001b[1;33m(\u001b[0m\u001b[1;36m2\u001b[0m\u001b[1;33m,\u001b[0m\u001b[1;36m3\u001b[0m\u001b[1;33m)\u001b[0m\u001b[1;33m,\u001b[0m \u001b[1;34m'def'\u001b[0m\u001b[1;33m)\u001b[0m\u001b[1;33m\u001b[0m\u001b[1;33m\u001b[0m\u001b[0m\n\u001b[1;32m----> 2\u001b[1;33m \u001b[0mtu\u001b[0m\u001b[1;33m[\u001b[0m\u001b[1;36m0\u001b[0m\u001b[1;33m]\u001b[0m \u001b[1;33m=\u001b[0m \u001b[1;36m24\u001b[0m\u001b[1;33m\u001b[0m\u001b[1;33m\u001b[0m\u001b[0m\n\u001b[0m",
      "\u001b[1;31mTypeError\u001b[0m: 'tuple' object does not support item assignment"
     ]
    }
   ],
   "source": [
    "tu = (23, 'abc', 4.56, (2,3), 'def')\n",
    "tu[0] = 24"
   ]
  },
  {
   "cell_type": "markdown",
   "metadata": {
    "slideshow": {
     "slide_type": "slide"
    }
   },
   "source": [
    "- Lists are defined using square brackets (and commas)."
   ]
  },
  {
   "cell_type": "code",
   "execution_count": 15,
   "metadata": {
    "slideshow": {
     "slide_type": "slide"
    }
   },
   "outputs": [
    {
     "name": "stdout",
     "output_type": "stream",
     "text": [
      "[11111, 34, 4.34, 23, 8]\n"
     ]
    }
   ],
   "source": [
    "li = [\"abc\", 34, 4.34, 23]\n",
    "li.append(8)\n",
    "li[0] = 11111\n",
    "print(li)"
   ]
  },
  {
   "cell_type": "markdown",
   "metadata": {
    "slideshow": {
     "slide_type": "slide"
    }
   },
   "source": [
    "- Strings are defined using quotes (', \", or \"\"\")."
   ]
  },
  {
   "cell_type": "code",
   "execution_count": 27,
   "metadata": {
    "slideshow": {
     "slide_type": "slide"
    }
   },
   "outputs": [
    {
     "name": "stdout",
     "output_type": "stream",
     "text": [
      "This is a multi-line\n",
      "string that uses triple quotes.\n"
     ]
    }
   ],
   "source": [
    "st = \"Hello World\"\n",
    "st = 'Hello World'\n",
    "st = \"\"\"This is a multi-line\n",
    "string that uses triple quotes.\"\"\"\n",
    "print(st)"
   ]
  },
  {
   "cell_type": "markdown",
   "metadata": {
    "slideshow": {
     "slide_type": "slide"
    }
   },
   "source": [
    "## How to access individual members of a sequence object?"
   ]
  },
  {
   "cell_type": "markdown",
   "metadata": {
    "slideshow": {
     "slide_type": "slide"
    }
   },
   "source": [
    "- We can access individual members of a tuple, list, or string\n",
    "  using square bracket “array” notation."
   ]
  },
  {
   "cell_type": "markdown",
   "metadata": {
    "slideshow": {
     "slide_type": "slide"
    }
   },
   "source": [
    "- Note that all are 0 based… "
   ]
  },
  {
   "cell_type": "code",
   "execution_count": 30,
   "metadata": {
    "slideshow": {
     "slide_type": "slide"
    }
   },
   "outputs": [
    {
     "data": {
      "text/plain": [
       "('abc', 4.56)"
      ]
     },
     "execution_count": 30,
     "metadata": {},
     "output_type": "execute_result"
    }
   ],
   "source": [
    "tu = (23, 'abc', 4.56, (2,3), 'def')\n",
    "tu[1:3] # Second item in the tuple."
   ]
  },
  {
   "cell_type": "code",
   "execution_count": 31,
   "metadata": {
    "slideshow": {
     "slide_type": "slide"
    }
   },
   "outputs": [
    {
     "data": {
      "text/plain": [
       "34"
      ]
     },
     "execution_count": 31,
     "metadata": {},
     "output_type": "execute_result"
    }
   ],
   "source": [
    "li = [\"abc\", 34, 4.34, 23]\n",
    "li[1] # Second item in the list."
   ]
  },
  {
   "cell_type": "code",
   "execution_count": 32,
   "metadata": {
    "slideshow": {
     "slide_type": "slide"
    }
   },
   "outputs": [
    {
     "data": {
      "text/plain": [
       "'e'"
      ]
     },
     "execution_count": 32,
     "metadata": {},
     "output_type": "execute_result"
    }
   ],
   "source": [
    "st = \"Hello World\"\n",
    "st[1] # Second character in string."
   ]
  },
  {
   "cell_type": "markdown",
   "metadata": {
    "slideshow": {
     "slide_type": "slide"
    }
   },
   "source": [
    "## Positive and negative indices"
   ]
  },
  {
   "cell_type": "code",
   "execution_count": 19,
   "metadata": {
    "slideshow": {
     "slide_type": "slide"
    }
   },
   "outputs": [
    {
     "data": {
      "text/plain": [
       "'abc'"
      ]
     },
     "execution_count": 19,
     "metadata": {},
     "output_type": "execute_result"
    }
   ],
   "source": [
    "tu = (23, 'abc', 4.56, (2,3), 'def')\n",
    "tu[1] # Second item in the tuple."
   ]
  },
  {
   "cell_type": "code",
   "execution_count": 20,
   "metadata": {
    "slideshow": {
     "slide_type": "slide"
    }
   },
   "outputs": [
    {
     "data": {
      "text/plain": [
       "4.56"
      ]
     },
     "execution_count": 20,
     "metadata": {},
     "output_type": "execute_result"
    }
   ],
   "source": [
    "tu[-3]"
   ]
  },
  {
   "cell_type": "markdown",
   "metadata": {
    "slideshow": {
     "slide_type": "slide"
    }
   },
   "source": [
    "## Slicing: Return Copy of a Subset"
   ]
  },
  {
   "cell_type": "markdown",
   "metadata": {
    "slideshow": {
     "slide_type": "slide"
    }
   },
   "source": [
    "- Return a copy of the container with a subset of the original\n",
    "  members. Start copying at the first index, and stop copying\n",
    "  **before** the second index. "
   ]
  },
  {
   "cell_type": "code",
   "execution_count": 35,
   "metadata": {
    "slideshow": {
     "slide_type": "slide"
    }
   },
   "outputs": [
    {
     "data": {
      "text/plain": [
       "('abc', 4.56, (2, 3))"
      ]
     },
     "execution_count": 35,
     "metadata": {},
     "output_type": "execute_result"
    }
   ],
   "source": [
    "tu = (23, 'abc', 4.56, (2,3), 'def')\n",
    "tu[1:4]"
   ]
  },
  {
   "cell_type": "markdown",
   "metadata": {
    "slideshow": {
     "slide_type": "slide"
    }
   },
   "source": [
    "- You can also use negative indices when slicing. "
   ]
  },
  {
   "cell_type": "code",
   "execution_count": 36,
   "metadata": {
    "slideshow": {
     "slide_type": "slide"
    }
   },
   "outputs": [
    {
     "data": {
      "text/plain": [
       "('abc', 4.56, (2, 3))"
      ]
     },
     "execution_count": 36,
     "metadata": {},
     "output_type": "execute_result"
    }
   ],
   "source": [
    "tu[1:-1]"
   ]
  },
  {
   "cell_type": "markdown",
   "metadata": {
    "slideshow": {
     "slide_type": "slide"
    }
   },
   "source": [
    "- Omit the first index to make a copy starting from the beginning\n",
    "  of the container."
   ]
  },
  {
   "cell_type": "code",
   "execution_count": 37,
   "metadata": {
    "slideshow": {
     "slide_type": "slide"
    }
   },
   "outputs": [
    {
     "data": {
      "text/plain": [
       "(23, 'abc')"
      ]
     },
     "execution_count": 37,
     "metadata": {},
     "output_type": "execute_result"
    }
   ],
   "source": [
    "tu[0:2]"
   ]
  },
  {
   "cell_type": "markdown",
   "metadata": {
    "slideshow": {
     "slide_type": "slide"
    }
   },
   "source": [
    "- Omit the second index to make a copy starting at the first index\n",
    "  and going to the end of the container."
   ]
  },
  {
   "cell_type": "code",
   "execution_count": 38,
   "metadata": {
    "slideshow": {
     "slide_type": "slide"
    }
   },
   "outputs": [
    {
     "data": {
      "text/plain": [
       "(4.56, (2, 3), 'def')"
      ]
     },
     "execution_count": 38,
     "metadata": {},
     "output_type": "execute_result"
    }
   ],
   "source": [
    "tu[2:]"
   ]
  },
  {
   "cell_type": "markdown",
   "metadata": {
    "slideshow": {
     "slide_type": "slide"
    }
   },
   "source": [
    "## Copying the Whole Sequence"
   ]
  },
  {
   "cell_type": "markdown",
   "metadata": {
    "slideshow": {
     "slide_type": "slide"
    }
   },
   "source": [
    "- To make a copy of an entire sequence, you can use [:]\n",
    "- Note the difference between these two lines for mutable\n",
    "  sequences:"
   ]
  },
  {
   "cell_type": "code",
   "execution_count": 22,
   "metadata": {
    "slideshow": {
     "slide_type": "slide"
    }
   },
   "outputs": [
    {
     "name": "nbtutor",
     "output_type": "stream",
     "text": [
      "('abc', 4.56, (2, 3))\n"
     ]
    }
   ],
   "source": [
    "%%nbtutor -r -f\n",
    "tu = (23, 'abc', 4.56, (2,3), 'def')\n",
    "tu2 = tu #  2 names refer to 1 ref\n",
    "         # Changing one affects both\n",
    "tu3 = tu[:] # Two independent copies, two refs\n",
    "tu4 = tu[1:4]\n",
    "print(tu4)"
   ]
  },
  {
   "cell_type": "markdown",
   "metadata": {
    "slideshow": {
     "slide_type": "slide"
    }
   },
   "source": [
    "## The ‘in’ Operator"
   ]
  },
  {
   "cell_type": "markdown",
   "metadata": {
    "slideshow": {
     "slide_type": "slide"
    }
   },
   "source": [
    "- Boolean test whether a value is inside a container:"
   ]
  },
  {
   "cell_type": "code",
   "execution_count": 23,
   "metadata": {
    "slideshow": {
     "slide_type": "slide"
    }
   },
   "outputs": [
    {
     "name": "stdout",
     "output_type": "stream",
     "text": [
      "1,2,4,5,"
     ]
    }
   ],
   "source": [
    "t = [1, 2, 4, 5]\n",
    "3 in t\n",
    "for i in t:\n",
    "    print(i, end=',')"
   ]
  },
  {
   "cell_type": "code",
   "execution_count": 41,
   "metadata": {
    "slideshow": {
     "slide_type": "slide"
    }
   },
   "outputs": [
    {
     "data": {
      "text/plain": [
       "True"
      ]
     },
     "execution_count": 41,
     "metadata": {},
     "output_type": "execute_result"
    }
   ],
   "source": [
    "4 in t "
   ]
  },
  {
   "cell_type": "code",
   "execution_count": 42,
   "metadata": {
    "slideshow": {
     "slide_type": "slide"
    }
   },
   "outputs": [
    {
     "data": {
      "text/plain": [
       "False"
      ]
     },
     "execution_count": 42,
     "metadata": {},
     "output_type": "execute_result"
    }
   ],
   "source": [
    "4 not in t\n",
    "not(4 in t)"
   ]
  },
  {
   "cell_type": "markdown",
   "metadata": {
    "slideshow": {
     "slide_type": "slide"
    }
   },
   "source": [
    "- For strings, tests for substrings\n",
    "\n",
    "```python\n",
    "a = 'abcde'\n",
    "'c' in a\n",
    "```\n",
    "\n",
    "```python\n",
    "'cd' in a\n",
    "```\n",
    "\n",
    "```python\n",
    "'ac' in a\n",
    "```"
   ]
  },
  {
   "cell_type": "markdown",
   "metadata": {
    "slideshow": {
     "slide_type": "slide"
    }
   },
   "source": [
    "- Be careful: the in keyword is also used in the syntax of\n",
    "  for loops and list comprehensions.\n",
    "\n",
    "```python\n",
    "for i in [1, 2, 8, 12]:\n",
    "    print(i, ',', end='')\n",
    "```"
   ]
  },
  {
   "cell_type": "markdown",
   "metadata": {
    "slideshow": {
     "slide_type": "slide"
    }
   },
   "source": [
    "## The + Operator\n",
    "\n",
    "The + operator produces a new tuple, list, or string whose\n",
    "value is the concatenation of its arguments.\n",
    "\n",
    "```python\n",
    "(1, 2, 3) + [4, 5, 6]\n",
    "```\n",
    "\n",
    "```python\n",
    "[1, 2, 3] + [4, 5, 6]\n",
    "```\n",
    "\n",
    "```python\n",
    "\"Hello\" + \" \" + \"World\"\n",
    "```"
   ]
  },
  {
   "cell_type": "markdown",
   "metadata": {
    "slideshow": {
     "slide_type": "slide"
    }
   },
   "source": [
    "## The * Operator\n",
    "\n",
    "The * operator produces a new tuple, list, or string that\n",
    "“repeats” the original content.\n",
    "\n",
    "```python\n",
    "(1, 2, 3) * 3\n",
    "```\n",
    "\n",
    "```python\n",
    "[1, 2, 3] * 3\n",
    "```\n",
    "\n",
    "```python\n",
    "\"Hello\" * 3\n",
    "```"
   ]
  },
  {
   "cell_type": "markdown",
   "metadata": {
    "slideshow": {
     "slide_type": "slide"
    }
   },
   "source": [
    "# Mutability:\n",
    "\n",
    "Tuples vs. Lists"
   ]
  },
  {
   "cell_type": "markdown",
   "metadata": {
    "slideshow": {
     "slide_type": "slide"
    }
   },
   "source": [
    "## Tuples: Immutable\n",
    "\n",
    "```python\n",
    "tu = (23, ['e','f','a'], 4.56, (2, 3), 'def')\n",
    "tu[1].append(8)\n",
    "tu[1]\n",
    "```\n",
    "\n",
    "- You can’t change a tuple.\n",
    "- You can make a fresh tuple and assign its reference to a previously used\n",
    "  name.\n",
    "\n",
    "```python\n",
    "tu = (23, 'abc', 3.14, (2, 3), 'def')\n",
    "```"
   ]
  },
  {
   "cell_type": "markdown",
   "metadata": {
    "slideshow": {
     "slide_type": "slide"
    }
   },
   "source": [
    "## Lists: Mutable\n",
    "\n",
    "```python\n",
    "li = [\"abc\", 34, 4.34, 23]\n",
    "li[1] = 45\n",
    "li\n",
    "```\n",
    "\n",
    "- We can change lists in place.\n",
    "- Name li still points to the same memory reference when we’re\n",
    "  done.\n",
    "- The mutability of lists means that they aren’t as fast as tuples. \n",
    "\n",
    "```python\n",
    "li = [1, 11, 3, 4, 5]\n",
    "li.append('a')\n",
    "li\n",
    "```\n",
    "\n",
    "```python\n",
    "li.insert(2, 'i')\n",
    "li\n",
    "```"
   ]
  },
  {
   "cell_type": "markdown",
   "metadata": {
    "slideshow": {
     "slide_type": "slide"
    }
   },
   "source": [
    "## The extend method vs the + operator\n",
    "\n",
    "- '+' creates a fresh list (with a new memory reference)\n",
    "- extend operates on list li in place\n",
    "\n",
    "```python\n",
    "li = [1, 11, 3, 4, 5]\n",
    "li.extend([9, 8, 7]) \n",
    "li\n",
    "li + [8, 10]\n",
    "```"
   ]
  },
  {
   "cell_type": "markdown",
   "metadata": {
    "slideshow": {
     "slide_type": "slide"
    }
   },
   "source": [
    "*Confusing:*\n",
    "\n",
    "- Extend takes a list as an argument.\n",
    "- Append takes a singleton as an argument.\n",
    "\n",
    "```python\n",
    "li.append([10, 11, 12])\n",
    "li\n",
    "```"
   ]
  },
  {
   "cell_type": "markdown",
   "metadata": {
    "slideshow": {
     "slide_type": "slide"
    }
   },
   "source": [
    "## Operations on Lists Only 3\n",
    "\n",
    "```python\n",
    "li = ['a', 'b', 'c', 'b']\n",
    "```\n",
    "\n",
    "```python\n",
    "li.index('b')\n",
    "```\n",
    "\n",
    "```python\n",
    "li.count('b')\n",
    "```\n",
    "\n",
    "```python\n",
    "li.remove('b')\n",
    "```\n",
    "\n",
    "```python\n",
    "li\n",
    "```"
   ]
  },
  {
   "cell_type": "markdown",
   "metadata": {
    "slideshow": {
     "slide_type": "slide"
    }
   },
   "source": [
    "## Operations on Lists Only 4\n",
    "\n",
    "```python\n",
    "li = [5, 2, 6, 8]\n",
    "```\n",
    "\n",
    "```python\n",
    "li.reverse()\n",
    "li\n",
    "```\n",
    "\n",
    "```python\n",
    "li.sort()\n",
    "li\n",
    "```"
   ]
  },
  {
   "cell_type": "markdown",
   "metadata": {
    "slideshow": {
     "slide_type": "slide"
    }
   },
   "source": [
    "## Tuples vs. Lists\n",
    "\n",
    "Lists slower but more powerful than tuples.\n",
    "\n",
    "- Lists can be modified, and they have lots of handy operations we can\n",
    "  perform on them.\n",
    "- Tuples are immutable and have fewer features\n",
    "- To convert between tuples and lists use the list() and tuple()\n",
    "  functions:\n",
    "\n",
    "```python\n",
    "li = list(tu)\n",
    "tu = tuple(li)\n",
    "```"
   ]
  },
  {
   "cell_type": "markdown",
   "metadata": {
    "slideshow": {
     "slide_type": "slide"
    }
   },
   "source": [
    "# Dictionaries"
   ]
  },
  {
   "cell_type": "markdown",
   "metadata": {
    "slideshow": {
     "slide_type": "slide"
    }
   },
   "source": [
    "## Dictionaries: A Mapping type\n",
    "\n",
    "- Dictionaries store a mapping between a set of keys\n",
    "  and a set of values.\n",
    "  - Keys can be any immutable type.\n",
    "  - Values can be any type\n",
    "  - A single dictionary can store values of different types\n",
    "- You can define, modify, view, lookup, and delete\n",
    "  the key-value pairs in the dictionary."
   ]
  },
  {
   "cell_type": "markdown",
   "metadata": {
    "slideshow": {
     "slide_type": "slide"
    }
   },
   "source": [
    "## Using dictionaries\n",
    "\n",
    "```python"
   ]
  },
  {
   "cell_type": "code",
   "execution_count": 24,
   "metadata": {
    "scrolled": true,
    "slideshow": {
     "slide_type": "slide"
    }
   },
   "outputs": [
    {
     "name": "stdout",
     "output_type": "stream",
     "text": [
      "bozo\n",
      "1234\n"
     ]
    },
    {
     "ename": "KeyError",
     "evalue": "'bozo'",
     "output_type": "error",
     "traceback": [
      "\u001b[0;31m-------------------------------------------------\u001b[0m",
      "\u001b[0;31mKeyError\u001b[0m        Traceback (most recent call last)",
      "\u001b[0;32m<ipython-input-24-616ffe7f6fca>\u001b[0m in \u001b[0;36m<module>\u001b[0;34m()\u001b[0m\n\u001b[1;32m      2\u001b[0m \u001b[0mprint\u001b[0m\u001b[0;34m(\u001b[0m\u001b[0md\u001b[0m\u001b[0;34m[\u001b[0m\u001b[0;34m'user'\u001b[0m\u001b[0;34m]\u001b[0m\u001b[0;34m)\u001b[0m\u001b[0;34m\u001b[0m\u001b[0m\n\u001b[1;32m      3\u001b[0m \u001b[0mprint\u001b[0m\u001b[0;34m(\u001b[0m\u001b[0md\u001b[0m\u001b[0;34m[\u001b[0m\u001b[0;34m'pswd'\u001b[0m\u001b[0;34m]\u001b[0m\u001b[0;34m)\u001b[0m\u001b[0;34m\u001b[0m\u001b[0m\n\u001b[0;32m----> 4\u001b[0;31m \u001b[0mprint\u001b[0m\u001b[0;34m(\u001b[0m\u001b[0md\u001b[0m\u001b[0;34m[\u001b[0m\u001b[0;34m'bozo'\u001b[0m\u001b[0;34m]\u001b[0m\u001b[0;34m)\u001b[0m\u001b[0;34m\u001b[0m\u001b[0m\n\u001b[0m",
      "\u001b[0;31mKeyError\u001b[0m: 'bozo'"
     ]
    }
   ],
   "source": [
    "d = {'user':'bozo', 'pswd':1234}\n",
    "print(d['user'])\n",
    "print(d['pswd'])\n",
    "print(d['bozo'])"
   ]
  },
  {
   "cell_type": "markdown",
   "metadata": {
    "slideshow": {
     "slide_type": "slide"
    }
   },
   "source": [
    "```\n",
    "\n",
    "```python\n",
    "d = {'user':'bozo', 'p':1234, 'i':34}\n",
    "del d['user'] # Remove one.\n",
    "print(d)\n",
    "d.clear() # Remove all.\n",
    "print(d)\n",
    "```\n",
    "\n",
    "```python\n",
    "d = {'user':'bozo', 'pswd':1234}\n",
    "d['user'] = 'clown'\n",
    "print(d)\n",
    "d['id'] = 45\n",
    "print(d)\n",
    "```\n",
    "\n",
    "```python\n",
    "d = {'user':'bozo', 'p':1234, 'i':34}\n",
    "print(d.keys()) # List of keys.\n",
    "print(d.values()) # List of values.\n",
    "print(d.items()) # List of item tuples.\n",
    "```"
   ]
  },
  {
   "cell_type": "markdown",
   "metadata": {
    "slideshow": {
     "slide_type": "slide"
    }
   },
   "source": [
    "# Functions\n",
    "\n",
    "- *def* creates a function and assigns it a name\n",
    "- *return* sends a result back to the caller \n",
    "- Arguments are passed by assignment\n",
    "- Arguments and return types are not declared\n",
    "  def <name>(arg1, arg2, ..., argN): \n",
    "    <statements>\n",
    "    return <value>\n",
    "\n",
    "```python\n",
    "def times(x,y):\n",
    "    return x*y\n",
    "```\n",
    "\n",
    "```python\n",
    "times(10, 11)\n",
    "```"
   ]
  },
  {
   "cell_type": "markdown",
   "metadata": {
    "slideshow": {
     "slide_type": "slide"
    }
   },
   "source": [
    "## Passing Arguments to Functions\n",
    "\n",
    "- Arguments are passed by assignment\n",
    "- Passed arguments are assigned to local names\n",
    "- Assignment to argument names don't affect the caller\n",
    "- Changing a mutable argument may affect the caller\n",
    "\n",
    "\n",
    "\n",
    "```python"
   ]
  },
  {
   "cell_type": "code",
   "execution_count": 27,
   "metadata": {
    "slideshow": {
     "slide_type": "slide"
    }
   },
   "outputs": [
    {
     "name": "nbtutor",
     "output_type": "stream",
     "text": [
      "x= 33\n",
      "y= ['hi', 2, 3]\n"
     ]
    }
   ],
   "source": [
    "%%nbtutor -r -f\n",
    "def changer(x,y):\n",
    "    x = 2           # changes local value of x only \n",
    "    y[0] = 'hi'     # changes shared object\n",
    "x = 33\n",
    "y = [1, 2, 3]\n",
    "changer(x, y)\n",
    "print(\"x=\", x)\n",
    "print(\"y=\", y)"
   ]
  },
  {
   "cell_type": "markdown",
   "metadata": {
    "slideshow": {
     "slide_type": "slide"
    }
   },
   "source": [
    "## Optional Arguments \n",
    "\n",
    "Can define defaults for arguments that need not be passed\n",
    "\n",
    "```python\n",
    "def func(a, b, c=10, d=100):\n",
    "    print(a, b, c, d)\n",
    "```\n",
    "\n",
    "```python\n",
    "func(a=1, b=2, d=3)\n",
    "```\n",
    "\n",
    "```python\n",
    "func(1, 2, 3, 4)\n",
    "```"
   ]
  },
  {
   "cell_type": "markdown",
   "metadata": {
    "slideshow": {
     "slide_type": "slide"
    }
   },
   "source": [
    "## Gotchas\n",
    "\n",
    "- All functions in Python have a return value\n",
    "  - even if no return line inside the code.\n",
    "- Functions without a return return the special value **None**. \n",
    "- There is no function overloading in Python.\n",
    "  - Two different functions can’t have the same name, even if they have different arguments. \n",
    "- Functions can be used as any other data type. They can be: \n",
    "  - Arguments to function\n",
    "  - Return values of functions\n",
    "  - Assigned to variables\n",
    "  - Parts of tuples, lists, etc"
   ]
  },
  {
   "cell_type": "markdown",
   "metadata": {
    "slideshow": {
     "slide_type": "slide"
    }
   },
   "source": [
    "## Examples\n",
    "\n",
    "```python"
   ]
  },
  {
   "cell_type": "code",
   "execution_count": 28,
   "metadata": {
    "slideshow": {
     "slide_type": "slide"
    }
   },
   "outputs": [
    {
     "name": "stdout",
     "output_type": "stream",
     "text": [
      "X equals 3.\n",
      "This is outside the 'if'.\n"
     ]
    }
   ],
   "source": [
    "x = 3\n",
    "if x == 3:\n",
    "    print(\"X equals 3.\")\n",
    "elif x == 2:\n",
    "    print(\"X equals 2.\")\n",
    "else:\n",
    "    print(\"X equals something else.\")\n",
    "print(\"This is outside the 'if'.\")"
   ]
  },
  {
   "cell_type": "markdown",
   "metadata": {
    "slideshow": {
     "slide_type": "slide"
    }
   },
   "source": [
    "```\n",
    "\n",
    "```python\n",
    "x = 3\n",
    "while x < 10:\n",
    "    if x > 7:\n",
    "        x += 2\n",
    "        continue\n",
    "    x = x + 1\n",
    "    print(\"Still in the loop.\")\n",
    "    if x == 8:       \n",
    "        break \n",
    "print(\"Outside of the loop.\")\n",
    "\n",
    "```\n",
    "\n",
    "```python\n",
    "for x in range(10):   \n",
    "    if x > 7:       \n",
    "        x += 2       \n",
    "        continue   \n",
    "    x = x + 1   \n",
    "    print(\"Still in the loop.\")   \n",
    "    if x == 8:       \n",
    "        break \n",
    "print(\"Outside of the loop.\")\n",
    "\n",
    "```\n",
    "\n",
    "```python\n",
    "number_of_players = 3\n",
    "assert(number_of_players < 5)\n",
    "```"
   ]
  },
  {
   "cell_type": "markdown",
   "metadata": {
    "slideshow": {
     "slide_type": "slide"
    }
   },
   "source": [
    "# Modules"
   ]
  },
  {
   "cell_type": "markdown",
   "metadata": {
    "slideshow": {
     "slide_type": "slide"
    }
   },
   "source": [
    "## Why Use Modules? \n",
    "\n",
    "- Code reuse\n",
    "  - Routines can be called multiple times within a program\n",
    "  - Routines can be used from multiple programs \n",
    "- Namespace partitioning\n",
    "  - Group data together with functions used for that data \n",
    "- Implementing shared services or data\n",
    "  - Can provide global data structure that is accessed by multiple subprograms"
   ]
  },
  {
   "cell_type": "markdown",
   "metadata": {
    "slideshow": {
     "slide_type": "slide"
    }
   },
   "source": [
    "## Modules \n",
    "\n",
    "- Modules are functions and variables defined in separate files \n",
    "- Items are imported using from or import \n",
    "  from module import function\n",
    "  function()\n",
    "\n",
    "import module\n",
    "module.function()\n",
    "\n",
    "- Modules are namespaces\n",
    "  - Can be used to organize variable names, i.e. \n",
    "    atom.position = atom.position - molecule.position"
   ]
  },
  {
   "cell_type": "markdown",
   "metadata": {
    "slideshow": {
     "slide_type": "slide"
    }
   },
   "source": [
    "# Classes and Objects"
   ]
  },
  {
   "cell_type": "markdown",
   "metadata": {
    "slideshow": {
     "slide_type": "slide"
    }
   },
   "source": [
    "## What is an Object? \n",
    "\n",
    "Object Oriented Design focuses on\n",
    "\n",
    "- Encapsulation:\n",
    "  - dividing the code into a public interface, and a private implementation of that interface \n",
    "- Polymorphism:\n",
    "  - the ability to overload standard operators so that they have appropriate behavior based on their context \n",
    "- Inheritance:\n",
    "  - the ability to create subclasses that contain specializations of their parents"
   ]
  },
  {
   "cell_type": "markdown",
   "metadata": {
    "slideshow": {
     "slide_type": "slide"
    }
   },
   "source": [
    "```python\n",
    "class atom(object): \n",
    "    def __init__(self,atno,x,y,z): \n",
    "        self.atno = atno \n",
    "        self.position = (x,y,z) \n",
    "    def __repr__(self): # overloads printing \n",
    "        return '%d %10.4f %10.4f %10.4f'\\\n",
    "        %(self.atno, self.position[0], self.position[1], self.position[2])\n",
    "\n",
    "```\n",
    "\n",
    "```python\n",
    "at = atom(6,0.0,1.0,2.0)\n",
    "print(at)\n",
    "```"
   ]
  },
  {
   "cell_type": "markdown",
   "metadata": {
    "slideshow": {
     "slide_type": "slide"
    }
   },
   "source": [
    "## Atom Class \n",
    "\n",
    "- Overloaded the default constructor\n",
    "- Defined class variables (atno,position) that are persistent and local to the atom object\n",
    "- Good way to manage shared memory:\n",
    "  - instead of passing long lists of arguments, encapsulate some of this data into an object, and pass the object.\n",
    "  - much cleaner programs result\n",
    "- Overloaded the print operator\n",
    "\n",
    "- We now want to use the atom class to build molecules..."
   ]
  },
  {
   "cell_type": "markdown",
   "metadata": {
    "slideshow": {
     "slide_type": "slide"
    }
   },
   "source": [
    "## Molecule Class\n",
    "\n",
    "```python"
   ]
  },
  {
   "cell_type": "code",
   "execution_count": 29,
   "metadata": {
    "slideshow": {
     "slide_type": "slide"
    }
   },
   "outputs": [],
   "source": [
    "class atom(object): \n",
    "    def __init__(self,atno,x,y,z): \n",
    "        self.atno = atno \n",
    "        self.position = (x,y,z) \n",
    "    def __repr__(self): # overloads printing \n",
    "        return '%d %10.4f %10.4f %10.4f'\\\n",
    "        %(self.atno, self.position[0], self.position[1], self.position[2])\n",
    "\n",
    "class molecule: \n",
    "    def __init__(self,name='Generic'): \n",
    "        self.name = name\n",
    "        self.atomlist = []\n",
    "    def addatom(self,atom): \n",
    "        self.atomlist.append(atom)\n",
    "    def __repr__(self): \n",
    "        _str = 'This is a molecule named %s\\n' % self.name\n",
    "        _str = _str + 'It has %d atoms\\n' % len(self.atomlist)\n",
    "        for atom in self.atomlist:\n",
    "            _str = _str + \"%r\" % atom + '\\n'\n",
    "        return _str"
   ]
  },
  {
   "cell_type": "markdown",
   "metadata": {
    "slideshow": {
     "slide_type": "slide"
    }
   },
   "source": [
    "```\n",
    "\n",
    "```python\n",
    "mol = molecule('Water')\n",
    "at = atom(8,0.,0.,0.)\n",
    "mol.addatom(at)\n",
    "mol.addatom(atom(1,0.,0.,1.))\n",
    "mol.addatom(atom(1,0.,1.,0.))\n",
    "print(mol) \n",
    "```"
   ]
  },
  {
   "cell_type": "markdown",
   "metadata": {
    "slideshow": {
     "slide_type": "slide"
    }
   },
   "source": [
    "- Note that the print function calls the atoms print function\n",
    "  - Code reuse: only have to type the code that prints an atom once; this means that if you change the atom specification, you only have one place to update"
   ]
  },
  {
   "cell_type": "markdown",
   "metadata": {
    "slideshow": {
     "slide_type": "slide"
    }
   },
   "source": [
    "## Inheritance\n",
    "\n",
    "```python\n",
    "class qm_molecule(molecule):\n",
    "    def addbasis(self):\n",
    "        self.basis = []\n",
    "        for atom in self.atomlist:\n",
    "            self.basis = add_bf(atom,self.basis) \n",
    "```\n",
    "\n",
    "- `__init__`, `__repr__`, and `addatom` are taken from the parent class (molecule) \n",
    "- Added a new function addbasis() to add a basis set \n",
    "- Another example of code reuse\n",
    "  - Basic functions don't have to be retyped, just inherited\n",
    "  - Less to rewrite when specifications change"
   ]
  },
  {
   "cell_type": "markdown",
   "metadata": {
    "slideshow": {
     "slide_type": "slide"
    }
   },
   "source": [
    "## Overloading\n",
    "\n",
    "```python\n",
    "class qm_molecule(molecule):\n",
    "    def __repr__(self): \n",
    "        str = 'QM Rules!\\n'\n",
    "        for atom in self.atomlist:\n",
    "            str = str + \"%r\" % atom + '\\n'\n",
    "        return str \n",
    "```\n",
    "\n",
    "- Now we only inherit `__init__` and addatom from the parent \n",
    "- We define a new version of `__repr__` specially for QM"
   ]
  },
  {
   "cell_type": "markdown",
   "metadata": {
    "slideshow": {
     "slide_type": "slide"
    }
   },
   "source": [
    "## Public and Private Data \n",
    "\n",
    "- In Python anything with two leading underscores is private \n",
    "  __a, __my_variable \n",
    "- Anything with one leading underscore is semiprivate, and you should feel guilty accessing this data directly\n",
    "  _b\n",
    "  *Sometimes useful as an intermediate step to making data private*"
   ]
  },
  {
   "cell_type": "markdown",
   "metadata": {
    "slideshow": {
     "slide_type": "slide"
    }
   },
   "source": [
    "# The Extra Stuff..."
   ]
  },
  {
   "cell_type": "markdown",
   "metadata": {
    "slideshow": {
     "slide_type": "slide"
    }
   },
   "source": [
    "## File I/O, Strings, Exceptions...\n",
    "\n",
    "```python\n",
    "try: \n",
    "    1 / 0\n",
    "except:\n",
    "    print('That was silly!')\n",
    "finally: \n",
    "    print('This gets executed no matter what') \n",
    "```\n",
    "\n",
    "```python\n",
    "fileptr = open(‘filename’) \n",
    "somestring = fileptr.read() \n",
    "for line in fileptr:   \n",
    "    print line \n",
    "fileptr.close() \n",
    "```"
   ]
  }
 ],
 "metadata": {
  "celltoolbar": "Visualize",
  "kernelspec": {
   "display_name": "Python 3",
   "language": "python",
   "name": "python3"
  },
  "language_info": {
   "codemirror_mode": {
    "name": "ipython",
    "version": 3
   },
   "file_extension": ".py",
   "mimetype": "text/x-python",
   "name": "python",
   "nbconvert_exporter": "python",
   "pygments_lexer": "ipython3",
   "version": "3.6.9"
  },
  "nbTranslate": {
   "displayLangs": [
    "*"
   ],
   "hotkey": "alt-t",
   "langInMainMenu": true,
   "sourceLang": "en",
   "targetLang": "fr",
   "useGoogleTranslate": true
  },
  "toc": {
   "base_numbering": 1,
   "nav_menu": {},
   "number_sections": false,
   "sideBar": true,
   "skip_h1_title": false,
   "title_cell": "Table of Contents",
   "title_sidebar": "Contents",
   "toc_cell": false,
   "toc_position": {},
   "toc_section_display": true,
   "toc_window_display": false
  }
 },
 "nbformat": 4,
 "nbformat_minor": 2
}
