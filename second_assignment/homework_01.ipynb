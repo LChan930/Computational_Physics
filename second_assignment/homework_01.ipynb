{
 "cells": [
  {
   "cell_type": "markdown",
   "metadata": {},
   "source": [
    "**1.** 根据印度数学家斯里尼瓦瑟·拉马努金(Srinivasa Ramanujan)发现的公式，编写一个函数`estimatePi()`来估计并返回 $\\pi$ 的值。 它应该使用`while`循环来计算求和项，直到最后一项小于 $10^{-15}$。 计算公式如下：\n",
    "$$\\frac{1}{\\pi}=\\frac{2\\sqrt{2}}{9801}\\sum_{k=0}^{\\infty}\\frac{(4k)!(1103+26390k)}{(k!)^4396^{4k}}$$\n",
    "这里 $k!$ 是 $k$ 的阶乘。"
   ]
  },
  {
   "cell_type": "markdown",
   "metadata": {},
   "source": [
    "*提示： 阶乘可以使用递归进行计算* "
   ]
  },
  {
   "cell_type": "code",
   "execution_count": 1,
   "metadata": {},
   "outputs": [],
   "source": [
    "def factorial(n):\n",
    "    if n == 0:\n",
    "        return 1\n",
    "    else:\n",
    "        return n * factorial(n-1)"
   ]
  },
  {
   "cell_type": "markdown",
   "metadata": {},
   "source": []
  },
  {
   "cell_type": "markdown",
   "metadata": {},
   "source": [
    "**2.** Consider a radioactive decay problem involving two types of nuclei, $A$ and $B$,\n",
    "with populations $N_{A}(t)$ and $N_{B}(t)$. Suppose that type $A$ nuclei decay to form\n",
    "type $B$ nuclei, which then also decay, according to the differential equations"
   ]
  },
  {
   "cell_type": "markdown",
   "metadata": {},
   "source": [
    "$$\n",
    "\\begin{aligned} \\frac{d N_{A}}{d t} &=-\\frac{N_{A}}{\\tau_{A}} \\\\ \\frac{d N_{B}}{d t} &=\\frac{N_{A}}{\\tau_{A}}-\\frac{N_{B}}{\\tau_{B}} \\end{aligned}\n",
    "$$"
   ]
  },
  {
   "cell_type": "markdown",
   "metadata": {},
   "source": [
    "where $\\tau_A$ and $\\tau_B$ are the decay time constants for each type of nucleus. Use the Euler method to solve these coupled equations for $N_A$ and $N_B$ as functions of time. This problem can also be solved exactly, as was the case with our original nuclear decay problem (1.1). Obtain the analytic solutions for $N_A(t)$ and $N_B(t)$, and compare them with your numerical results. It is also interesting to explore the behavior found for different values of the ratio $\\tau_A/\\tau_B$. In particular, try to interpret the short and long time behaviors for different values of this ratio."
   ]
  },
  {
   "cell_type": "markdown",
   "metadata": {},
   "source": []
  },
  {
   "cell_type": "code",
   "execution_count": 17,
   "metadata": {},
   "outputs": [
    {
     "name": "stdout",
     "output_type": "stream",
     "text": [
      "3.141592653589793\n"
     ]
    }
   ],
   "source": [
    "# Problem 1\n",
    "import numpy as np\n",
    "\n",
    "def factorial(n):\n",
    "    if n == 0:\n",
    "        return 1\n",
    "    else:\n",
    "        return n * factorial(n-1)\n",
    "    \n",
    "def estimate_pi():\n",
    "    k = 0\n",
    "    countdown = 0\n",
    "    item = 1.0\n",
    "    while item > 1e-15 :\n",
    "        item = factorial (4 * k) * (1103 + 26390 * k) / ( pow (factorial(k), 4) * pow (396, 4 * k) )\n",
    "        k += 1\n",
    "        countdown += item\n",
    "    pi = 9801 / (np.sqrt(8) * countdown)\n",
    "    return pi\n",
    "\n",
    "pi = estimate_pi()\n",
    "print(pi)"
   ]
  },
  {
   "cell_type": "code",
   "execution_count": 27,
   "metadata": {},
   "outputs": [
    {
     "data": {
      "image/png": "[encoded data removed]",
      "text/plain": [
       "<Figure size 432x288 with 1 Axes>"
      ]
     },
     "metadata": {
      "needs_background": "light"
     },
     "output_type": "display_data"
    },
    {
     "data": {
      "image/png": "[encoded data removed]",
      "text/plain": [
       "<Figure size 432x288 with 1 Axes>"
      ]
     },
     "metadata": {
      "needs_background": "light"
     },
     "output_type": "display_data"
    }
   ],
   "source": [
    "# Problem 2\n",
    "import matplotlib.pyplot as plt\n",
    "import numpy as np\n",
    "\n",
    "class decay(object):\n",
    "    def __init__(self, name, init_number, constant):\n",
    "        self.number = [init_number]\n",
    "        self.t = [0]\n",
    "        self.tau = constant\n",
    "        self.time = 5\n",
    "        self.dt = 0.05\n",
    "        self.n_step = 100\n",
    "        \n",
    "    def change(self):\n",
    "        change = self.number[-1] / self.tau\n",
    "        return change\n",
    "    \n",
    "    def show_results(self):\n",
    "        plt.plot(self.t, self.number)\n",
    "        plt.xlabel('time ($s$)')\n",
    "        plt.ylabel('Number of Nuclei')\n",
    "        plt.show()\n",
    "        \n",
    "def calculation(N, change, dt):\n",
    "    tmp = N - change * dt\n",
    "    return tmp\n",
    "\n",
    "a = decay('a', 10000, 0.1)\n",
    "b = decay('b', 1000, 0.5)\n",
    "\n",
    "for i in range(a.n_step):\n",
    "    a.number.append(calculation(a.number[i], a.change(), 0.05))\n",
    "    a.t.append(a.t[i] + 0.05)\n",
    "    b.number.append(calculation(b.number[i], b.change() - a.change(), 0.05))\n",
    "    b.t.append(b.t[i] + 0.05)\n",
    "\n",
    "a.show_results()\n",
    "b.show_results()"
   ]
  },
  {
   "cell_type": "code",
   "execution_count": null,
   "metadata": {},
   "outputs": [],
   "source": []
  }
 ],
 "metadata": {
  "kernelspec": {
   "display_name": "Python 3",
   "language": "python",
   "name": "python3"
  },
  "language_info": {
   "codemirror_mode": {
    "name": "ipython",
    "version": 3
   },
   "file_extension": ".py",
   "mimetype": "text/x-python",
   "name": "python",
   "nbconvert_exporter": "python",
   "pygments_lexer": "ipython3",
   "version": "3.7.4"
  },
  "nbTranslate": {
   "displayLangs": [
    "zh-cn",
    "en"
   ],
   "hotkey": "alt-t",
   "langInMainMenu": true,
   "sourceLang": "en",
   "targetLang": "zh-cn",
   "useGoogleTranslate": true
  },
  "toc": {
   "base_numbering": 1,
   "nav_menu": {},
   "number_sections": true,
   "sideBar": true,
   "skip_h1_title": false,
   "title_cell": "Table of Contents",
   "title_sidebar": "Contents",
   "toc_cell": false,
   "toc_position": {},
   "toc_section_display": true,
   "toc_window_display": false
  }
 },
 "nbformat": 4,
 "nbformat_minor": 2
}
